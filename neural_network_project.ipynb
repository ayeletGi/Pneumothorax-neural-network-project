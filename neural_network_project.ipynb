{
  "cells": [
    {
      "cell_type": "markdown",
      "metadata": {},
      "source": [
        "Imports"
      ]
    },
    {
      "cell_type": "code",
      "execution_count": 37,
      "metadata": {},
      "outputs": [],
      "source": [
        "import torch\n",
        "import torch.nn as nn\n",
        "import torch.nn.functional as F\n",
        "import torchvision\n",
        "from torchvision import models\n",
        "from torch.utils.data import Dataset, DataLoader\n",
        "from torchvision import transforms\n",
        "from torch.utils.tensorboard import SummaryWriter\n",
        "from sklearn import metrics\n",
        "from sklearn.model_selection import train_test_split\n",
        "from sklearn.metrics import confusion_matrix, ConfusionMatrixDisplay\n",
        "import matplotlib.pyplot as plt\n",
        "from PIL import Image\n",
        "import pandas as pd\n",
        "import numpy as np\n",
        "import os\n",
        "import gc\n",
        "import copy\n"
      ]
    },
    {
      "cell_type": "markdown",
      "metadata": {},
      "source": [
        "Paths definitions"
      ]
    },
    {
      "cell_type": "code",
      "execution_count": 38,
      "metadata": {},
      "outputs": [
        {
          "data": {
            "text/plain": [
              "'run this if you are working from google colab!!'"
            ]
          },
          "execution_count": 38,
          "metadata": {},
          "output_type": "execute_result"
        }
      ],
      "source": [
        "\"\"\"run this if you are working from google colab!!\"\"\"\n",
        "# from google.colab import drive\n",
        "# drive.mount('/content/gdrive')\n",
        "# code_dir = \"/content/gdrive/MyDrive/neural network project\""
      ]
    },
    {
      "cell_type": "code",
      "execution_count": 39,
      "metadata": {},
      "outputs": [],
      "source": [
        "\"\"\"run this if you are working from your local computer!!\"\"\"\n",
        "code_dir = os.getcwd()"
      ]
    },
    {
      "cell_type": "markdown",
      "metadata": {},
      "source": [
        "Hyper parameters"
      ]
    },
    {
      "cell_type": "code",
      "execution_count": 40,
      "metadata": {
        "colab": {
          "base_uri": "https://localhost:8080/"
        },
        "id": "noXflhbhh0Za",
        "outputId": "e51dede0-ddd0-4112-c5da-08ca124763c1"
      },
      "outputs": [],
      "source": [
        "# ############## TENSORBOARD ########################\n",
        "# writer = SummaryWriter(\"runs/PNEUMOTHORAX\")\n",
        "# ###################################################\n",
        "\n",
        "data_dir = os.path.join(code_dir, \"Data\")\n",
        "class_file_path = os.path.join(code_dir, \"train_data.csv\")\n",
        "\n",
        "classification_file = pd.read_csv(class_file_path, header=0)\n",
        "\n",
        "# Classes parameters\n",
        "PNEUMOTHORAX = 1\n",
        "NOT_PNEUMOTHORAX = 0\n",
        "classes = {PNEUMOTHORAX, NOT_PNEUMOTHORAX}\n",
        "num_classes = len(classes)\n",
        "\n",
        "# Splitting parameters\n",
        "train_size = 0.8\n",
        "test_size = 0.5\n",
        "\n",
        "# Training parameters\n",
        "batch_size = 100\n",
        "num_workers = 0\n",
        "epochs = 20\n",
        "learning_rate = 0.001"
      ]
    },
    {
      "cell_type": "markdown",
      "metadata": {
        "id": "8gCbCaXHky8h"
      },
      "source": [
        "Dataset class definition"
      ]
    },
    {
      "cell_type": "code",
      "execution_count": 41,
      "metadata": {
        "id": "uvsp2Ex40qlg"
      },
      "outputs": [],
      "source": [
        "class PneumDataset(Dataset):\n",
        "    def __init__(self, data_path, images_paths, labels, transform):\n",
        "        # init custom dataset attributes\n",
        "        self.data_path = data_path\n",
        "        self.X_images = images_paths\n",
        "        self.y_labels = labels\n",
        "        self.transform = transform\n",
        "\n",
        "    def __len__(self):\n",
        "        # len of the dataset\n",
        "        return len(self.X_images)\n",
        "\n",
        "    def __getitem__(self, index):\n",
        "        # get specific sample by index\n",
        "        img_path = self.X_images[index]\n",
        "        label = self.y_labels[index]\n",
        "\n",
        "        # opening the image\n",
        "        path = os.path.join(self.data_path, img_path)\n",
        "        image = Image.open(path)\n",
        "        image = image.convert(\"RGB\")\n",
        "        \n",
        "        # converting x,y to tensors\n",
        "        image = self.transform(image)\n",
        "        label = torch.tensor(label, dtype=torch.long)\n",
        "        label = label.view(1)\n",
        "        return image, label"
      ]
    },
    {
      "cell_type": "markdown",
      "metadata": {},
      "source": [
        "Loading and splitting the data"
      ]
    },
    {
      "cell_type": "code",
      "execution_count": 42,
      "metadata": {
        "id": "CvvlDg53hdVD"
      },
      "outputs": [],
      "source": [
        "def imshow(img):\n",
        "    np_img = img.numpy()\n",
        "    plt.imshow(np.transpose(np_img, (1, 2, 0)))\n",
        "    plt.show()\n",
        "\n",
        "images_paths = np.asarray(classification_file[\"file_name\"])\n",
        "images_targets = np.asarray(classification_file[\"target\"])\n",
        "\n",
        "# split to train, test an validation\n",
        "X_train, X_temp, y_train, y_temp = train_test_split(images_paths, images_targets,\n",
        "                                                    train_size=train_size, random_state=50)\n",
        "\n",
        "X_valid, X_test, y_valid, y_test = train_test_split(X_temp, y_temp,\n",
        "                                                    train_size=test_size, random_state=45)\n",
        "\n",
        "# transform\n",
        "transform = transforms.Compose([transforms.Resize(256),\n",
        "                                transforms.CenterCrop(224),\n",
        "                                transforms.ToTensor(),\n",
        "                                transforms.Normalize(mean=[0.485, 0.456, 0.406],\n",
        "                                                     std=[0.229, 0.224, 0.225])\n",
        "                                ])\n",
        "\n",
        "# create dataloaders\n",
        "train_dataset = PneumDataset(data_dir, X_train, y_train, transform)\n",
        "train_loader = DataLoader(train_dataset, batch_size=batch_size,\n",
        "                          shuffle=True, num_workers=num_workers)\n",
        "\n",
        "valid_dataset = PneumDataset(data_dir, X_valid, y_valid, transform)\n",
        "valid_loader = DataLoader(valid_dataset, batch_size=batch_size,\n",
        "                          shuffle=False, num_workers=num_workers)\n",
        "\n",
        "test_dataset = PneumDataset(data_dir, X_test, y_test, transform)\n",
        "test_loader = DataLoader(test_dataset, batch_size=batch_size,\n",
        "                         shuffle=False, num_workers=num_workers)\n"
      ]
    },
    {
      "cell_type": "markdown",
      "metadata": {},
      "source": [
        "Visualize a few images"
      ]
    },
    {
      "cell_type": "code",
      "execution_count": 43,
      "metadata": {},
      "outputs": [
        {
          "name": "stderr",
          "output_type": "stream",
          "text": [
            "Clipping input data to the valid range for imshow with RGB data ([0..1] for floats or [0..255] for integers).\n"
          ]
        },
        {
          "name": "stdout",
          "output_type": "stream",
          "text": [
            "One batch images shape: torch.Size([100, 3, 224, 224])\n",
            "One batch labels shape: torch.Size([100, 1])\n",
            "One iteration size: 27\n"
          ]
        },
        {
          "data": {
            "image/png": "[encoded data removed]",
            "text/plain": [
              "<Figure size 432x288 with 1 Axes>"
            ]
          },
          "metadata": {
            "needs_background": "light"
          },
          "output_type": "display_data"
        }
      ],
      "source": [
        "# get some random training images\n",
        "dataiter = iter(train_loader)\n",
        "example_images, example_labels = dataiter.next()  # random batch\n",
        "\n",
        "# batch shapes\n",
        "print(f'One batch images shape: {example_images.shape}')\n",
        "print(f'One batch labels shape: {example_labels.shape}')\n",
        "print(f'One iteration size: {len(dataiter)}')\n",
        "\n",
        "# show images\n",
        "img_grid = torchvision.utils.make_grid(example_images)\n",
        "imshow(img_grid)\n",
        "\n",
        "# ############## TENSORBOARD ########################\n",
        "# writer.add_image('PNEUMOTHORAX image grid', img_grid)\n",
        "# ###################################################"
      ]
    },
    {
      "cell_type": "markdown",
      "metadata": {
        "id": "hLrWwGk-kwvU"
      },
      "source": [
        "Cnn model definition"
      ]
    },
    {
      "cell_type": "code",
      "execution_count": 44,
      "metadata": {
        "id": "zV8exRkkidNp"
      },
      "outputs": [],
      "source": [
        "class PneumNet(nn.Module):\n",
        "    def __init__(self):\n",
        "        super(PneumNet, self).__init__()\n",
        "        self.conv1 = nn.Conv2d(in_channels=3, out_channels=6, kernel_size=20)\n",
        "        self.pool1 = nn.MaxPool2d(2,2)\n",
        "        self.conv2 = nn.Conv2d(in_channels=6, out_channels=16, kernel_size=20)\n",
        "        self.pool2 = nn.MaxPool2d(2, 2)\n",
        "        self.relu = nn.ReLU()\n",
        "        self.fc1 = nn.Linear(in_features =16*41*41, out_features=100 )\n",
        "        self.fc2 = nn.Linear(in_features=100, out_features = 50)\n",
        "        self.fc3 = nn.Linear(in_features=50, out_features=1)\n",
        "\n",
        "    def forward(self, x):\n",
        "        x = self.relu(self.conv1(x))\n",
        "        x = self.pool1(x)\n",
        "        x = self.relu(self.conv2(x))\n",
        "        x = self.pool2(x)\n",
        "        x = x.view(x.size(0), -1)\n",
        "        x = self.relu(self.fc1(x))\n",
        "        x = self.relu(self.fc2(x))\n",
        "        x = self.fc3(x)\n",
        "        return x\n",
        "\n",
        "# checking the shape after each model step\n",
        "# x = PneumNet().relu(PneumNet().conv1(example_images))\n",
        "# print(x.shape)\n",
        "# x = PneumNet().pool1(x)\n",
        "# print(x.shape)\n",
        "# x = PneumNet().relu(PneumNet().conv2(x))\n",
        "# print(x.shape)\n",
        "# x = PneumNet().pool2(x)\n",
        "# print(x.shape)\n",
        "# x = x.view(x.size(0), -1)\n",
        "# print(x.shape)\n",
        "# x = torch.relu(PneumNet().fc1(x))\n",
        "# print(x.shape)\n",
        "# x = torch.relu(PneumNet().fc2(x))\n",
        "# print(x.shape)\n",
        "# x = PneumNet().fc3(x)\n",
        "# print(x.shape)"
      ]
    },
    {
      "cell_type": "markdown",
      "metadata": {},
      "source": [
        "Transfer learning model definition"
      ]
    },
    {
      "cell_type": "code",
      "execution_count": 45,
      "metadata": {},
      "outputs": [],
      "source": [
        "resnet18_model = models.resnet18(pretrained=True)\n",
        "num_ftrs = resnet18_model.fc.in_features\n",
        "resnet18_model.fc = nn.Sequential(\n",
        "                                nn.Linear(num_ftrs, 1000),\n",
        "                                nn.ReLU(),\n",
        "                                nn.Linear(1000, 500),\n",
        "                                nn.ReLU(),\n",
        "                                nn.Linear(500, 1))"
      ]
    },
    {
      "cell_type": "code",
      "execution_count": 46,
      "metadata": {},
      "outputs": [],
      "source": [
        "resnet50_model = models.resnet50(pretrained=True)\n",
        "num_ftrs = resnet50_model.fc.in_features\n",
        "resnet50_model.fc = nn.Sequential(\n",
        "                                nn.Linear(num_ftrs, 1000),\n",
        "                                nn.ReLU(),\n",
        "                                nn.Linear(1000, 500),\n",
        "                                nn.ReLU(),\n",
        "                                nn.Linear(500, 1))"
      ]
    },
    {
      "cell_type": "code",
      "execution_count": 47,
      "metadata": {},
      "outputs": [],
      "source": [
        "densenet_model = models.densenet161(pretrained=True)\n",
        "num_ftrs = densenet_model.classifier.in_features\n",
        "densenet_model.classifier =  nn.Sequential(\n",
        "                                nn.Linear(num_ftrs, 1000),\n",
        "                                nn.ReLU(),\n",
        "                                nn.Linear(1000, 500),\n",
        "                                nn.ReLU(),\n",
        "                                nn.Linear(500, 1))"
      ]
    },
    {
      "cell_type": "code",
      "execution_count": 48,
      "metadata": {},
      "outputs": [],
      "source": [
        "inceptionv3_model = models.inception_v3(pretrained=True)\n",
        "# Freeze model weights\n",
        "for param in inceptionv3_model.parameters():\n",
        "    param.requires_grad = False\n",
        "\n",
        "n_inputs = inceptionv3_model.fc.in_features\n",
        "\n",
        "inceptionv3_model.fc =  nn.Sequential(\n",
        "                                nn.Linear(n_inputs, 1000),\n",
        "                                nn.ReLU(),\n",
        "                                nn.Linear(1000, 500),\n",
        "                                nn.ReLU(),\n",
        "                                nn.Linear(500, 1))\n"
      ]
    },
    {
      "cell_type": "code",
      "execution_count": 49,
      "metadata": {},
      "outputs": [],
      "source": [
        "vgg19_model = models.vgg19(pretrained=True)\n",
        "# Freeze model weights\n",
        "for param in vgg19_model.parameters():\n",
        "    param.requires_grad = False\n",
        "\n",
        "n_inputs = vgg19_model.classifier[6].in_features\n",
        "\n",
        "vgg19_model.classifier[6] =  nn.Sequential(\n",
        "                                nn.Linear(n_inputs, 1000),\n",
        "                                nn.ReLU(),\n",
        "                                nn.Linear(1000, 500),\n",
        "                                nn.ReLU(),\n",
        "                                nn.Linear(500, 1))"
      ]
    },
    {
      "cell_type": "markdown",
      "metadata": {},
      "source": [
        "Loss, optimizer and model definition "
      ]
    },
    {
      "cell_type": "code",
      "execution_count": 50,
      "metadata": {},
      "outputs": [
        {
          "name": "stdout",
          "output_type": "stream",
          "text": [
            "Working on device: cpu\n"
          ]
        }
      ],
      "source": [
        "# device\n",
        "device = \"cpu\"\n",
        "# if (torch.cuda.is_available()):\n",
        "#     gc.collect()\n",
        "#     torch.cuda.empty_cache()\n",
        "#     device = \"cuda\"\n",
        "print(f\"Working on device: {device}\")\n",
        "\n",
        "# model\n",
        "model = vgg19_model.to(device)\n",
        "\n",
        "# loss and optimizer\n",
        "criterion = nn.BCEWithLogitsLoss().to(device)  # binary cross entropy\n",
        "optimizer = torch.optim.Adam(model.parameters(), lr=learning_rate)\n",
        "\n",
        "# ############## TENSORBOARD ########################\n",
        "# writer.add_graph(model, example_images.to(device))\n",
        "# ###################################################\n"
      ]
    },
    {
      "cell_type": "markdown",
      "metadata": {
        "id": "xdQYEufG5Ocu"
      },
      "source": [
        "Train functions"
      ]
    },
    {
      "cell_type": "code",
      "execution_count": 51,
      "metadata": {
        "colab": {
          "base_uri": "https://localhost:8080/"
        },
        "id": "1755tyn45LjC",
        "outputId": "c54e8f0b-e113-4c2d-8e8c-f2d0dbdc0456"
      },
      "outputs": [
        {
          "name": "stdout",
          "output_type": "stream",
          "text": [
            "Begin training. \n",
            "\n"
          ]
        }
      ],
      "source": [
        "def binary_acc(outputs, labels):\n",
        "    predicted = torch.round(torch.sigmoid(outputs))\n",
        "    correct_results_sum = (predicted == labels).sum().float()\n",
        "    acc = correct_results_sum/outputs.shape[0]\n",
        "    acc = torch.round(acc * 100)\n",
        "    return acc\n",
        "\n",
        "\n",
        "def train(train_loader, model, optimizer, device):\n",
        "    \"\"\"one epoch train loop\"\"\"\n",
        "    model.train()\n",
        "    \n",
        "    train_loss = 0.0\n",
        "    train_acc = 0.0\n",
        "\n",
        "    for data in train_loader:\n",
        "        (images, labels) = data\n",
        "        images = images.to(device, dtype=torch.float)\n",
        "        labels = labels.to(device, dtype=torch.float)\n",
        "\n",
        "        # Forward\n",
        "        outputs = model(images)\n",
        "        loss = criterion(outputs, labels)\n",
        "        acc = binary_acc(outputs, labels)\n",
        "\n",
        "        # Backward\n",
        "        optimizer.zero_grad()\n",
        "        loss.backward()\n",
        "        optimizer.step()\n",
        "\n",
        "        # Loss and Accuracy Track\n",
        "        train_loss += loss.item() \n",
        "        train_acc += acc.item()\n",
        "        \n",
        "    train_size = len(train_loader)\n",
        "    train_loss = train_loss/train_size\n",
        "    train_acc = train_acc/train_size\n",
        "    \n",
        "    return train_loss, train_acc\n",
        "\n",
        "\n",
        "def valid(valid_loader, model, device):\n",
        "    model.eval()  \n",
        "\n",
        "    valid_loss = 0.0\n",
        "    valid_acc = 0.0\n",
        "    \n",
        "    with torch.no_grad():\n",
        "        for data in valid_loader:\n",
        "            (images, labels) = data\n",
        "            images = images.to(device, dtype=torch.float)\n",
        "            labels = labels.to(device, dtype=torch.float)\n",
        "\n",
        "            # predict\n",
        "            outputs = model(images)\n",
        "            loss = criterion(outputs, labels)\n",
        "            acc = binary_acc(outputs, labels)\n",
        "\n",
        "            # Loss and Accuracy Track\n",
        "            valid_loss += loss.item()\n",
        "            valid_acc += acc.item()\n",
        "\n",
        "        valid_size = len(valid_loader)\n",
        "        valid_loss = valid_loss/valid_size\n",
        "        valid_acc = valid_acc/valid_size\n",
        "        \n",
        "    return valid_loss, valid_acc\n",
        "\n",
        "        \n",
        "def train_valid_on_epochs(train_loader, valid_loader, model, optimizer, device, epochs):\n",
        "    min_valid_loss = np.inf\n",
        "    best_model_wts = copy.deepcopy(model.state_dict())\n",
        "\n",
        "    for epoch in range(epochs):\n",
        "        train_loss, train_acc = train(train_loader, model,\n",
        "                                      optimizer, device)\n",
        "        \n",
        "        valid_loss, valid_acc = valid(valid_loader, model,\n",
        "                                      device)\n",
        "        \n",
        "        print(f'******Epoch: {epoch}/{ epochs - 1}******'\n",
        "              f'\\nTrain loss: {train_loss:.4f} Train acc: {train_acc:.4f}'\n",
        "              f'\\nValid loss: {valid_loss:.4f} Valid acc: {valid_acc:.4f}')\n",
        "        \n",
        "        if min_valid_loss > valid_loss:\n",
        "            min_valid_loss = valid_loss\n",
        "            torch.save(model.state_dict(), 'saved_model.pth')  \n",
        "            best_model_wts = copy.deepcopy(model.state_dict())\n",
        "\n",
        "        # ############## TENSORBOARD ########################\n",
        "        # writer.add_scalar('training loss', epoch_loss, epoch)\n",
        "        # writer.add_scalar('accuracy', epoch_acc, epoch)\n",
        "        # ###################################################\n",
        "    \n",
        "    model = model.load_state_dict(best_model_wts)\n",
        "\n",
        "print(\"Begin training. \\n\")\n",
        "train_valid_on_epochs(train_loader, valid_loader,\n",
        "                      model, optimizer, device, epochs)\n"
      ]
    },
    {
      "cell_type": "markdown",
      "metadata": {
        "id": "CrLAap_Z9N4x"
      },
      "source": [
        "    Test function"
      ]
    },
    {
      "cell_type": "code",
      "execution_count": null,
      "metadata": {
        "colab": {
          "base_uri": "https://localhost:8080/"
        },
        "id": "OhH32jFS9KxC",
        "outputId": "ad7b71d7-9088-4485-b48b-a72f6659e925"
      },
      "outputs": [
        {
          "name": "stdout",
          "output_type": "stream",
          "text": [
            "Accuracy of the network on the 830 test images: 75.30120481927712 %\n"
          ]
        },
        {
          "data": {
            "text/plain": [
              "<sklearn.metrics._plot.confusion_matrix.ConfusionMatrixDisplay at 0x24e3d8fba60>"
            ]
          },
          "execution_count": 12,
          "metadata": {},
          "output_type": "execute_result"
        },
        {
          "data": {
            "image/png": "[encoded data removed]",
            "text/plain": [
              "<Figure size 432x288 with 2 Axes>"
            ]
          },
          "metadata": {
            "needs_background": "light"
          },
          "output_type": "display_data"
        }
      ],
      "source": [
        "def one_dimantion_label(labels):\n",
        "    labels = [np.squeeze(a).tolist() for a in labels]\n",
        "    new_labels = []\n",
        "    for batch in labels:\n",
        "        for b in batch:\n",
        "            new_labels.append(b)\n",
        "    return new_labels\n",
        "    \n",
        "def test(data_loader, model, device):\n",
        "    model.eval()\n",
        "    \n",
        "    # no_grad context\n",
        "    with torch.no_grad():\n",
        "        predicted_labels = []\n",
        "        original_labels = []\n",
        "        for data in data_loader:\n",
        "            (images, labels) = data\n",
        "\n",
        "            images = images.to(device, dtype=torch.float)\n",
        "            labels = labels.to(device, dtype=torch.float)\n",
        "\n",
        "            # predict\n",
        "            outputs = model(images)\n",
        "            \n",
        "            predicted = torch.round(torch.sigmoid(outputs))\n",
        "            predicted_labels.append(predicted.cpu().numpy())\n",
        "            original_labels.append(labels.cpu().numpy())\n",
        "\n",
        "        original_labels = one_dimantion_label(original_labels)\n",
        "        predicted_labels = one_dimantion_label(predicted_labels)\n",
        "        \n",
        "    return original_labels, predicted_labels\n",
        "\n",
        "\n",
        "original_labels, predicted_labels = test(test_loader, model, device=device)\n",
        "\n",
        "test_len = len(original_labels)\n",
        "correct_results_sum = sum([1 for (p, o) in zip(predicted_labels, original_labels) if p == o])\n",
        "total_acc = 100.0 * (correct_results_sum / test_len)\n",
        "print(f'Accuracy of the network on the {test_len} test images: {total_acc} %')\n",
        "    \n",
        "\n",
        "cm = confusion_matrix(original_labels, predicted_labels)\n",
        "cmd = ConfusionMatrixDisplay(cm, display_labels=classes)\n",
        "cmd.plot()\n",
        "\n",
        "# ############## TENSORBOARD ########################\n",
        "# for i in classes:\n",
        "#     labels_i = class_labels == i\n",
        "#     preds_i = class_preds[:, i]\n",
        "#     writer.add_pr_curve(str(i), labels_i, preds_i, global_step=0)\n",
        "# writer.close()\n",
        "# ###################################################\n"
      ]
    }
  ],
  "metadata": {
    "accelerator": "GPU",
    "colab": {
      "collapsed_sections": [],
      "name": "neural network project.ipynb",
      "provenance": []
    },
    "kernelspec": {
      "display_name": "Python 3",
      "name": "python3"
    },
    "language_info": {
      "codemirror_mode": {
        "name": "ipython",
        "version": 3
      },
      "file_extension": ".py",
      "mimetype": "text/x-python",
      "name": "python",
      "nbconvert_exporter": "python",
      "pygments_lexer": "ipython3",
      "version": "3.9.7"
    }
  },
  "nbformat": 4,
  "nbformat_minor": 0
}
