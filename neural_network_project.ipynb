{
  "cells": [
    {
      "cell_type": "markdown",
      "metadata": {},
      "source": [
        "imports"
      ]
    },
    {
      "cell_type": "code",
      "execution_count": 198,
      "metadata": {},
      "outputs": [],
      "source": [
        "import torch\n",
        "import torch.nn as nn\n",
        "import torch.nn.functional as F\n",
        "import torchvision\n",
        "from torchvision import models\n",
        "from torch.utils.data import Dataset, DataLoader\n",
        "from torchvision import transforms\n",
        "from sklearn import metrics\n",
        "from sklearn.model_selection import train_test_split\n",
        "import matplotlib.pyplot as plt\n",
        "from PIL import Image\n",
        "import pandas as pd\n",
        "import numpy as np\n",
        "import os\n",
        "import gc\n",
        "\n",
        "gc.collect()\n",
        "\n",
        "torch.cuda.empty_cache()\n"
      ]
    },
    {
      "cell_type": "markdown",
      "metadata": {},
      "source": [
        "paths and globals definitions"
      ]
    },
    {
      "cell_type": "code",
      "execution_count": 199,
      "metadata": {},
      "outputs": [
        {
          "data": {
            "text/plain": [
              "'run this if you are working from google colab!!'"
            ]
          },
          "execution_count": 199,
          "metadata": {},
          "output_type": "execute_result"
        }
      ],
      "source": [
        "\"\"\"run this if you are working from google colab!!\"\"\"\n",
        "# from google.colab import drive\n",
        "# drive.mount('/content/gdrive')\n",
        "# code_dir = \"/content/gdrive/MyDrive/neural network project\""
      ]
    },
    {
      "cell_type": "code",
      "execution_count": 200,
      "metadata": {},
      "outputs": [],
      "source": [
        "\"\"\"run this if you are working from your local computer!!\"\"\"\n",
        "code_dir = os.getcwd()"
      ]
    },
    {
      "cell_type": "code",
      "execution_count": 201,
      "metadata": {
        "colab": {
          "base_uri": "https://localhost:8080/"
        },
        "id": "noXflhbhh0Za",
        "outputId": "e51dede0-ddd0-4112-c5da-08ca124763c1"
      },
      "outputs": [],
      "source": [
        "data_dir = os.path.join(code_dir, \"Data\")\n",
        "class_file_path = os.path.join(code_dir, \"train_data.csv\")\n",
        "\n",
        "PNEUMOTHORAX = 1\n",
        "NOT_PNEUMOTHORAX = 0\n",
        "classes = {PNEUMOTHORAX, NOT_PNEUMOTHORAX}\n",
        "num_classes = len(classes)\n",
        "\n",
        "classification_file = pd.read_csv(class_file_path, header=0)\n",
        "\n",
        "# Hyper-parameters\n",
        "batch_size = 10\n",
        "num_workers = 0\n",
        "epochs =10\n",
        "learning_rate = 0.01\n",
        "image_size = 200\n"
      ]
    },
    {
      "cell_type": "markdown",
      "metadata": {
        "id": "8gCbCaXHky8h"
      },
      "source": [
        "dataset definition"
      ]
    },
    {
      "cell_type": "code",
      "execution_count": 202,
      "metadata": {
        "id": "uvsp2Ex40qlg"
      },
      "outputs": [],
      "source": [
        "class PneumDataset(Dataset):\n",
        "    def __init__(self, data_path, images_paths, labels, transform):\n",
        "        # init custom dataset attributes\n",
        "        self.data_path = data_path\n",
        "        self.X_images = images_paths\n",
        "        self.y_labels = labels\n",
        "        self.transform = transform\n",
        "\n",
        "    def __len__(self):\n",
        "        # len of the dataset\n",
        "        return len(self.X_images)\n",
        "\n",
        "    def __getitem__(self, index):\n",
        "        # get specific sample by index\n",
        "        img_path = self.X_images[index]\n",
        "        label = self.y_labels[index]\n",
        "\n",
        "        # opening the image\n",
        "        path = os.path.join(self.data_path, img_path)\n",
        "        image = Image.open(path)\n",
        "        image = image.convert(\"RGB\")\n",
        "        \n",
        "        # converting x,y to tensors\n",
        "        image = self.transform(image)\n",
        "        label = torch.tensor(label, dtype=torch.long)\n",
        "        label = label.view(1)\n",
        "        return {\"image\": image, \"label\" : label}"
      ]
    },
    {
      "cell_type": "markdown",
      "metadata": {},
      "source": [
        "loading and splitting the data"
      ]
    },
    {
      "cell_type": "code",
      "execution_count": 203,
      "metadata": {
        "id": "CvvlDg53hdVD"
      },
      "outputs": [
        {
          "name": "stdout",
          "output_type": "stream",
          "text": [
            "One batch images shape: torch.Size([10, 3, 200, 200])\n",
            "One batch labels shape: torch.Size([10, 1])\n"
          ]
        },
        {
          "data": {
            "image/png": "[encoded data removed]",
            "text/plain": [
              "<Figure size 432x288 with 1 Axes>"
            ]
          },
          "metadata": {
            "needs_background": "light"
          },
          "output_type": "display_data"
        }
      ],
      "source": [
        "def imshow(img):\n",
        "    np_img = img.numpy()\n",
        "    plt.imshow(np.transpose(np_img, (1, 2, 0)))\n",
        "    plt.show()\n",
        "\n",
        "images_paths = np.asarray(classification_file[\"file_name\"])\n",
        "images_targets = np.asarray(classification_file[\"target\"])\n",
        "\n",
        "# split to train and test\n",
        "X_train, X_test, y_train, y_test = train_test_split(images_paths, images_targets, stratify=images_targets, random_state = 50)\n",
        "\n",
        "# transform\n",
        "transform = transforms.Compose([transforms.Resize(image_size),\n",
        "                                # transforms.CenterCrop(image_size - 10),\n",
        "                                transforms.ToTensor()])\n",
        "\n",
        "# create dataloaders\n",
        "train_dataset = PneumDataset(data_dir, X_train, y_train, transform)\n",
        "train_loader = DataLoader(train_dataset, batch_size=batch_size,\n",
        "                          shuffle=True, num_workers=num_workers)\n",
        "\n",
        "test_dataset = PneumDataset(data_dir, X_test, y_test, transform)\n",
        "test_loader = DataLoader(test_dataset, batch_size=batch_size,\n",
        "                         shuffle=False, num_workers=num_workers)\n",
        "\n",
        "# get some random training images\n",
        "dataiter = iter(train_loader)\n",
        "data = dataiter.next()  # random batch\n",
        "images = data[\"image\"]\n",
        "labels = data[\"label\"]\n",
        "\n",
        "# batch shapes\n",
        "print(f'One batch images shape: {images.shape}')\n",
        "print(f'One batch labels shape: {labels.shape}')\n",
        "# show images\n",
        "imshow(torchvision.utils.make_grid(images))\n"
      ]
    },
    {
      "cell_type": "markdown",
      "metadata": {
        "id": "hLrWwGk-kwvU"
      },
      "source": [
        "model definition"
      ]
    },
    {
      "cell_type": "code",
      "execution_count": 204,
      "metadata": {
        "id": "zV8exRkkidNp"
      },
      "outputs": [],
      "source": [
        "class PneumNet(nn.Module):\n",
        "    def __init__(self):\n",
        "        super(PneumNet, self).__init__()\n",
        "        self.resnet = models.resnet50(pretrained=True)\n",
        "        num_ftrs = self.resnet.fc.in_features\n",
        "        # self.conv1 = nn.Conv2d(in_channels=3, out_channels=6, kernel_size=20)\n",
        "        # self.pool = nn.MaxPool2d(2,2)\n",
        "        # self.conv2 = nn.Conv2d(in_channels=6, out_channels=16, kernel_size=20)\n",
        "        # self.fc1 = nn.Linear(in_features =16*35*35, out_features=100 )\n",
        "        self.fc2 = nn.Linear(in_features=100, out_features = 50)\n",
        "        self.fc3 = nn.Linear(in_features=50, out_features=1)\n",
        "\n",
        "\n",
        "    def forward(self, x):\n",
        "        x = self.pool(torch.relu(self.conv1(x)))\n",
        "        # print(x.shape)\n",
        "        x = self.pool(torch.relu(self.conv2(x)))\n",
        "        # print(x.shape)\n",
        "        x = x.view(x.size(0), -1)\n",
        "        # print(x.shape)\n",
        "        x = torch.relu(self.fc1(x))\n",
        "        # print(x.shape)\n",
        "        x = torch.relu(self.fc2(x))\n",
        "        # print(x.shape)\n",
        "        x = torch.sigmoid(self.fc3(x))\n",
        "        # print(x.shape)\n",
        "        return x\n"
      ]
    },
    {
      "cell_type": "markdown",
      "metadata": {
        "id": "dVeED0cKuNO0"
      },
      "source": [
        "loss, optimizer definition "
      ]
    },
    {
      "cell_type": "code",
      "execution_count": 205,
      "metadata": {},
      "outputs": [
        {
          "name": "stdout",
          "output_type": "stream",
          "text": [
            "Working on device: cuda\n"
          ]
        }
      ],
      "source": [
        "# device\n",
        "device = \"cpu\"\n",
        "if (torch.cuda.is_available()):\n",
        "    device = \"cuda\"\n",
        "print(f\"Working on device: {device}\")\n",
        "\n",
        "# model\n",
        "model = PneumNet().to(device)\n",
        "\n",
        "# loss and optimizer\n",
        "criterion = nn.BCELoss()  # binary cross entropy\n",
        "optimizer = torch.optim.SGD(model.parameters(), lr=learning_rate)"
      ]
    },
    {
      "cell_type": "markdown",
      "metadata": {
        "id": "xdQYEufG5Ocu"
      },
      "source": [
        "train function"
      ]
    },
    {
      "cell_type": "code",
      "execution_count": 210,
      "metadata": {
        "colab": {
          "base_uri": "https://localhost:8080/"
        },
        "id": "1755tyn45LjC",
        "outputId": "c54e8f0b-e113-4c2d-8e8c-f2d0dbdc0456"
      },
      "outputs": [
        {
          "name": "stdout",
          "output_type": "stream",
          "text": [
            "starting training\n",
            "tensor([[0.7011],\n",
            "        [0.7253],\n",
            "        [0.7576],\n",
            "        [0.7768],\n",
            "        [0.7967],\n",
            "        [0.7683],\n",
            "        [0.7073],\n",
            "        [0.7529],\n",
            "        [0.8782],\n",
            "        [0.7202]], device='cuda:0', grad_fn=<SigmoidBackward0>)\n",
            "tensor([[0.7175],\n",
            "        [0.7434],\n",
            "        [0.7394],\n",
            "        [0.7234],\n",
            "        [0.7381],\n",
            "        [0.7845],\n",
            "        [0.8465],\n",
            "        [0.7214],\n",
            "        [0.7538],\n",
            "        [0.7298]], device='cuda:0', grad_fn=<SigmoidBackward0>)\n",
            "tensor([[0.6923],\n",
            "        [0.8384],\n",
            "        [0.8387],\n",
            "        [0.7332],\n",
            "        [0.8377],\n",
            "        [0.7322],\n",
            "        [0.6878],\n",
            "        [0.8256],\n",
            "        [0.7726],\n",
            "        [0.7895]], device='cuda:0', grad_fn=<SigmoidBackward0>)\n",
            "tensor([[0.6936],\n",
            "        [0.7335],\n",
            "        [0.8047],\n",
            "        [0.7759],\n",
            "        [0.8357],\n",
            "        [0.7643],\n",
            "        [0.7294],\n",
            "        [0.8177],\n",
            "        [0.8574],\n",
            "        [0.7306]], device='cuda:0', grad_fn=<SigmoidBackward0>)\n",
            "tensor([[0.8173],\n",
            "        [0.7097],\n",
            "        [0.7097],\n",
            "        [0.7275],\n",
            "        [0.8821],\n",
            "        [0.6855],\n",
            "        [0.6924],\n",
            "        [0.8724],\n",
            "        [0.8418],\n",
            "        [0.6951]], device='cuda:0', grad_fn=<SigmoidBackward0>)\n",
            "tensor([[0.8871],\n",
            "        [0.6855],\n",
            "        [0.9280],\n",
            "        [0.7952],\n",
            "        [0.7067],\n",
            "        [0.7783],\n",
            "        [0.7596],\n",
            "        [0.7482],\n",
            "        [0.7832],\n",
            "        [0.7922]], device='cuda:0', grad_fn=<SigmoidBackward0>)\n",
            "tensor([[0.6907],\n",
            "        [0.8826],\n",
            "        [0.8928],\n",
            "        [0.7299],\n",
            "        [0.7052],\n",
            "        [0.8145],\n",
            "        [0.7963],\n",
            "        [0.8465],\n",
            "        [0.7242],\n",
            "        [0.7264]], device='cuda:0', grad_fn=<SigmoidBackward0>)\n",
            "tensor([[0.8020],\n",
            "        [0.8773],\n",
            "        [0.7954],\n",
            "        [0.9050],\n",
            "        [0.8855],\n",
            "        [0.6953],\n",
            "        [0.8083],\n",
            "        [0.7102],\n",
            "        [0.7711],\n",
            "        [0.6924]], device='cuda:0', grad_fn=<SigmoidBackward0>)\n"
          ]
        },
        {
          "ename": "KeyboardInterrupt",
          "evalue": "",
          "output_type": "error",
          "traceback": [
            "\u001b[1;31m---------------------------------------------------------------------------\u001b[0m",
            "\u001b[1;31mKeyboardInterrupt\u001b[0m                         Traceback (most recent call last)",
            "Input \u001b[1;32mIn [210]\u001b[0m, in \u001b[0;36m<module>\u001b[1;34m\u001b[0m\n\u001b[0;32m     24\u001b[0m                 \u001b[38;5;28mprint\u001b[39m(\u001b[38;5;124mf\u001b[39m\u001b[38;5;124m'\u001b[39m\u001b[38;5;124mEpoch [\u001b[39m\u001b[38;5;132;01m{\u001b[39;00mepoch\u001b[38;5;241m+\u001b[39m\u001b[38;5;241m1\u001b[39m\u001b[38;5;132;01m}\u001b[39;00m\u001b[38;5;124m/\u001b[39m\u001b[38;5;132;01m{\u001b[39;00mepochs\u001b[38;5;132;01m}\u001b[39;00m\u001b[38;5;124m], Step [\u001b[39m\u001b[38;5;132;01m{\u001b[39;00mi\u001b[38;5;241m+\u001b[39m\u001b[38;5;241m1\u001b[39m\u001b[38;5;132;01m}\u001b[39;00m\u001b[38;5;124m/\u001b[39m\u001b[38;5;132;01m{\u001b[39;00mnum_steps\u001b[38;5;132;01m}\u001b[39;00m\u001b[38;5;124m], Loss: \u001b[39m\u001b[38;5;132;01m{\u001b[39;00mloss\u001b[38;5;241m.\u001b[39mitem()\u001b[38;5;132;01m:\u001b[39;00m\u001b[38;5;124m.4f\u001b[39m\u001b[38;5;132;01m}\u001b[39;00m\u001b[38;5;124m'\u001b[39m)\n\u001b[0;32m     27\u001b[0m \u001b[38;5;28mprint\u001b[39m(\u001b[38;5;124m\"\u001b[39m\u001b[38;5;124mstarting training\u001b[39m\u001b[38;5;124m\"\u001b[39m)\n\u001b[1;32m---> 28\u001b[0m \u001b[43mtrain\u001b[49m\u001b[43m(\u001b[49m\u001b[43mtrain_loader\u001b[49m\u001b[43m,\u001b[49m\u001b[43m \u001b[49m\u001b[43mmodel\u001b[49m\u001b[43m,\u001b[49m\u001b[43m \u001b[49m\u001b[43moptimizer\u001b[49m\u001b[43m,\u001b[49m\u001b[43m \u001b[49m\u001b[43mdevice\u001b[49m\u001b[43m,\u001b[49m\u001b[43m \u001b[49m\u001b[43mepochs\u001b[49m\u001b[43m,\u001b[49m\u001b[43m \u001b[49m\u001b[38;5;28;43mlen\u001b[39;49m\u001b[43m(\u001b[49m\u001b[43mtrain_dataset\u001b[49m\u001b[43m)\u001b[49m\u001b[43m)\u001b[49m\n",
            "Input \u001b[1;32mIn [210]\u001b[0m, in \u001b[0;36mtrain\u001b[1;34m(data_loader, model, optimizer, device, epochs, samples_num)\u001b[0m\n\u001b[0;32m      7\u001b[0m images \u001b[38;5;241m=\u001b[39m data[\u001b[38;5;124m\"\u001b[39m\u001b[38;5;124mimage\u001b[39m\u001b[38;5;124m\"\u001b[39m]\n\u001b[0;32m      8\u001b[0m labels \u001b[38;5;241m=\u001b[39m data[\u001b[38;5;124m\"\u001b[39m\u001b[38;5;124mlabel\u001b[39m\u001b[38;5;124m\"\u001b[39m]\n\u001b[1;32m---> 10\u001b[0m images \u001b[38;5;241m=\u001b[39m \u001b[43mimages\u001b[49m\u001b[38;5;241;43m.\u001b[39;49m\u001b[43mto\u001b[49m\u001b[43m(\u001b[49m\u001b[43mdevice\u001b[49m\u001b[43m,\u001b[49m\u001b[43m \u001b[49m\u001b[43mdtype\u001b[49m\u001b[38;5;241;43m=\u001b[39;49m\u001b[43mtorch\u001b[49m\u001b[38;5;241;43m.\u001b[39;49m\u001b[43mfloat\u001b[49m\u001b[43m)\u001b[49m\n\u001b[0;32m     11\u001b[0m labels \u001b[38;5;241m=\u001b[39m labels\u001b[38;5;241m.\u001b[39mto(device, dtype\u001b[38;5;241m=\u001b[39mtorch\u001b[38;5;241m.\u001b[39mfloat)\n\u001b[0;32m     13\u001b[0m \u001b[38;5;66;03m# Forward\u001b[39;00m\n",
            "\u001b[1;31mKeyboardInterrupt\u001b[0m: "
          ]
        }
      ],
      "source": [
        "def train(data_loader, model, optimizer, device, epochs, samples_num):    \n",
        "    model.train()\n",
        "    num_steps = epochs * samples_num\n",
        "    \n",
        "    for epoch in range(epochs):\n",
        "        for i, data in enumerate(data_loader):\n",
        "            images = data[\"image\"]\n",
        "            labels = data[\"label\"]\n",
        "\n",
        "            images = images.to(device, dtype=torch.float)\n",
        "            labels = labels.to(device, dtype=torch.float)\n",
        "\n",
        "            # Forward\n",
        "            outputs = model(images)\n",
        "            print(outputs)\n",
        "            loss = criterion(outputs, labels)\n",
        "\n",
        "            # Backward \n",
        "            optimizer.zero_grad()\n",
        "            loss.backward()\n",
        "            optimizer.step()\n",
        "            \n",
        "            if (i+1) % 100 == 0:\n",
        "                print(f'Epoch [{epoch+1}/{epochs}], Step [{i+1}/{num_steps}], Loss: {loss.item():.4f}')\n",
        "\n",
        "\n",
        "print(\"starting training\")\n",
        "train(train_loader, model, optimizer, device, epochs, len(train_dataset))\n"
      ]
    },
    {
      "cell_type": "markdown",
      "metadata": {
        "id": "CrLAap_Z9N4x"
      },
      "source": [
        "test function"
      ]
    },
    {
      "cell_type": "code",
      "execution_count": 207,
      "metadata": {
        "colab": {
          "base_uri": "https://localhost:8080/"
        },
        "id": "OhH32jFS9KxC",
        "outputId": "ad7b71d7-9088-4485-b48b-a72f6659e925"
      },
      "outputs": [
        {
          "name": "stdout",
          "output_type": "stream",
          "text": [
            "Valid ROC AUC=0.6472663139329806\n"
          ]
        }
      ],
      "source": [
        "def test(data_loader, model, device):\n",
        "    model.eval()\n",
        "    # init lists to store targets and outputs\n",
        "    original_labels = []\n",
        "    predict_labels = []\n",
        "    # no_grad context\n",
        "    with torch.no_grad():\n",
        "        n_correct = 0\n",
        "        \n",
        "        for data in data_loader:\n",
        "            images = data[\"image\"]\n",
        "            labels = data[\"label\"]\n",
        "\n",
        "            images = images.to(device, dtype=torch.float)\n",
        "            labels = labels.to(device, dtype=torch.float)\n",
        "\n",
        "            # predict\n",
        "            output = model(images)\n",
        "            # convert targets and outputs to lists\n",
        "            labels = labels.detach().cpu().numpy().tolist()\n",
        "            output = output.detach().cpu().numpy().tolist()\n",
        "            \n",
        "            # extend the original list\n",
        "            original_labels.extend(labels)\n",
        "            predict_labels.extend(output)\n",
        "            \n",
        "    return original_labels, predict_labels\n",
        "\n",
        "original_labels, predict_labels = test(test_loader, model, device=device)\n",
        "# print(original_labels)\n",
        "# print(predict_labels)\n",
        "\n",
        "roc_auc = metrics.roc_auc_score(original_labels, predict_labels)\n",
        "print(f\"Valid ROC AUC={roc_auc}\")\n"
      ]
    },
    {
      "cell_type": "code",
      "execution_count": 208,
      "metadata": {
        "id": "FUAQ7b4158KT"
      },
      "outputs": [],
      "source": [
        "# def split_data():\n",
        "#     \"\"\"\n",
        "#     ONLY RUN ONCE!!!\n",
        "#     split the data to 2 class directory using the information from the data file\n",
        "#     \"\"\"\n",
        "\n",
        "#     for row, file_name in enumerate(classification_file[\"file_name\"]):\n",
        "#       lable = classification_file[\"target\"][row]\n",
        "#       original_path = os.path.join(data_dir, file_name)\n",
        "      \n",
        "#       if lable == PENUMOTHORAX:\n",
        "#         dest_path = os.path.join(Pneumothorax_dir, file_name)\n",
        "#       elif lable == NOT_PENUMOTHORAX:\n",
        "#         dest_path = os.path.join(not_Pneumothorax_dir, file_name)\n",
        "\n",
        "#       shutil.copy(original_path,dest_path)\n",
        "\n",
        "\n"
      ]
    },
    {
      "cell_type": "code",
      "execution_count": 209,
      "metadata": {
        "id": "OpJNLI3GhAof"
      },
      "outputs": [],
      "source": [
        "# # Train and evaluate functions \n",
        "\n",
        "# def train(data_loader, model, optimizer, device):\n",
        "#     \"\"\"\n",
        "#     training for one epoch with selected model and params\n",
        "#      data_loader:  pytorch dataloader\n",
        "#      model: pytorch model\n",
        "#      optimizer: optimizer \n",
        "#      device: cuda/cpu\n",
        "#     \"\"\"\n",
        "#     # set training mode \n",
        "#     model.train()\n",
        "#     # go over every batch of data in data loader\n",
        "#     for data in data_loader:\n",
        "#         inputs = data[\"image\"]\n",
        "#         targets = data[\"targets\"]\n",
        "#         # move inputs/targets to cuda/cpu device\n",
        "#         inputs = inputs.to(device, dtype=torch.float)\n",
        "#         targets = targets.to(device, dtype=torch.float)\n",
        "#         # zero grad the optimizer\n",
        "#         optimizer.zero_grad()\n",
        "#         # do the forward step of model\n",
        "#         outputs = model(inputs)\n",
        "#         # calculate loss\n",
        "#         loss = nn.BCEWithLogitsLoss()(outputs, targets.view(-1, 1))\n",
        "#         # backward step the loss\n",
        "#         loss.backward()\n",
        "#         # step optimizer\n",
        "#         optimizer.step()\n",
        "        \n",
        "# def evaluate(data_loader, model, device):\n",
        "#     \"\"\"\n",
        "#     Evaluation for one epoch\n",
        "#     data_loader: this is the pytorch dataloader\n",
        "#     model: pytorch model\n",
        "#     device: cuda/cpu\n",
        "#     \"\"\"\n",
        "#     # put model in evaluation mode\n",
        "#     model.eval()\n",
        "#     # init lists to store targets and outputs\n",
        "#     final_targets = []\n",
        "#     final_outputs = []\n",
        "#     # no_grad context\n",
        "#     with torch.no_grad():\n",
        "#         for data in data_loader:\n",
        "#             inputs = data[\"image\"]\n",
        "#             targets = data[\"targets\"]\n",
        "#             inputs = inputs.to(device, dtype=torch.float)\n",
        "#             targets = targets.to(device, dtype=torch.float)\n",
        "#             # generate prediction\n",
        "#             output = model(inputs)\n",
        "#             # convert targets and outputs to lists\n",
        "#             targets = targets.detach().cpu().numpy().tolist()\n",
        "#             output = output.detach().cpu().numpy().tolist()\n",
        "#             # extend the original list\n",
        "#             final_targets.extend(targets)\n",
        "#             final_outputs.extend(output)\n",
        "            \n",
        "#     return final_outputs, final_targets\n",
        "# # train and print auc score for all epochs\n",
        "# for epoch in tqdm(range(EPOCHS)):\n",
        "#     # train \n",
        "#     train(train_loader, model, optimizer, device=device)\n",
        "#     # predict \n",
        "#     predictions, valid_targets = evaluate(valid_loader, model, device=device)\n",
        "#     # metrics \n",
        "#     roc_auc = metrics.roc_auc_score(valid_targets, predictions)\n",
        "#     print(f\"Epoch={epoch}, Valid ROC AUC={roc_auc}\")\n",
        "\n",
        "    "
      ]
    }
  ],
  "metadata": {
    "accelerator": "GPU",
    "colab": {
      "collapsed_sections": [],
      "name": "neural network project.ipynb",
      "provenance": []
    },
    "kernelspec": {
      "display_name": "Python 3",
      "name": "python3"
    },
    "language_info": {
      "codemirror_mode": {
        "name": "ipython",
        "version": 3
      },
      "file_extension": ".py",
      "mimetype": "text/x-python",
      "name": "python",
      "nbconvert_exporter": "python",
      "pygments_lexer": "ipython3",
      "version": "3.9.7"
    }
  },
  "nbformat": 4,
  "nbformat_minor": 0
}
