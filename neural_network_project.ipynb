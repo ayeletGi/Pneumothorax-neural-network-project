{
  "cells": [
    {
      "cell_type": "markdown",
      "metadata": {},
      "source": [
        "imports"
      ]
    },
    {
      "cell_type": "code",
      "execution_count": 125,
      "metadata": {},
      "outputs": [],
      "source": [
        "import torch\n",
        "import torch.nn as nn\n",
        "import torch.nn.functional as F\n",
        "import torchvision\n",
        "from torchvision import models\n",
        "from torch.utils.data import Dataset, DataLoader\n",
        "from torchvision import transforms\n",
        "from torch.utils.tensorboard import SummaryWriter\n",
        "from sklearn import metrics\n",
        "from sklearn.model_selection import train_test_split\n",
        "from sklearn.metrics import confusion_matrix, ConfusionMatrixDisplay\n",
        "import matplotlib.pyplot as plt\n",
        "from PIL import Image\n",
        "import pandas as pd\n",
        "import numpy as np\n",
        "import os\n",
        "import gc\n"
      ]
    },
    {
      "cell_type": "markdown",
      "metadata": {},
      "source": [
        "paths and globals definitions"
      ]
    },
    {
      "cell_type": "code",
      "execution_count": 126,
      "metadata": {},
      "outputs": [
        {
          "data": {
            "text/plain": [
              "'run this if you are working from google colab!!'"
            ]
          },
          "execution_count": 126,
          "metadata": {},
          "output_type": "execute_result"
        }
      ],
      "source": [
        "\"\"\"run this if you are working from google colab!!\"\"\"\n",
        "# from google.colab import drive\n",
        "# drive.mount('/content/gdrive')\n",
        "# code_dir = \"/content/gdrive/MyDrive/neural network project\""
      ]
    },
    {
      "cell_type": "code",
      "execution_count": 127,
      "metadata": {},
      "outputs": [],
      "source": [
        "\"\"\"run this if you are working from your local computer!!\"\"\"\n",
        "code_dir = os.getcwd()"
      ]
    },
    {
      "cell_type": "code",
      "execution_count": 128,
      "metadata": {
        "colab": {
          "base_uri": "https://localhost:8080/"
        },
        "id": "noXflhbhh0Za",
        "outputId": "e51dede0-ddd0-4112-c5da-08ca124763c1"
      },
      "outputs": [],
      "source": [
        "############## TENSORBOARD ########################\n",
        "writer = SummaryWriter(\"runs/PNEUMOTHORAX\")\n",
        "###################################################\n",
        "\n",
        "data_dir = os.path.join(code_dir, \"Data\")\n",
        "class_file_path = os.path.join(code_dir, \"train_data.csv\")\n",
        "\n",
        "PNEUMOTHORAX = 1\n",
        "NOT_PNEUMOTHORAX = 0\n",
        "classes = {PNEUMOTHORAX, NOT_PNEUMOTHORAX}\n",
        "num_classes = len(classes)\n",
        "\n",
        "classification_file = pd.read_csv(class_file_path, header=0)\n",
        "\n",
        "# Hyper-parameters\n",
        "batch_size = 8\n",
        "num_workers = 0\n",
        "epochs = 100\n",
        "learning_rate = 0.001\n"
      ]
    },
    {
      "cell_type": "markdown",
      "metadata": {
        "id": "8gCbCaXHky8h"
      },
      "source": [
        "dataset definition"
      ]
    },
    {
      "cell_type": "code",
      "execution_count": 129,
      "metadata": {
        "id": "uvsp2Ex40qlg"
      },
      "outputs": [],
      "source": [
        "class PneumDataset(Dataset):\n",
        "    def __init__(self, data_path, images_paths, labels, transform):\n",
        "        # init custom dataset attributes\n",
        "        self.data_path = data_path\n",
        "        self.X_images = images_paths\n",
        "        self.y_labels = labels\n",
        "        self.transform = transform\n",
        "\n",
        "    def __len__(self):\n",
        "        # len of the dataset\n",
        "        return len(self.X_images)\n",
        "\n",
        "    def __getitem__(self, index):\n",
        "        # get specific sample by index\n",
        "        img_path = self.X_images[index]\n",
        "        label = self.y_labels[index]\n",
        "\n",
        "        # opening the image\n",
        "        path = os.path.join(self.data_path, img_path)\n",
        "        image = Image.open(path)\n",
        "        image = image.convert(\"RGB\")\n",
        "        \n",
        "        # converting x,y to tensors\n",
        "        image = self.transform(image)\n",
        "        label = torch.tensor(label, dtype=torch.long)\n",
        "        label = label.view(1)\n",
        "        return image, label"
      ]
    },
    {
      "cell_type": "markdown",
      "metadata": {},
      "source": [
        "loading and splitting the data"
      ]
    },
    {
      "cell_type": "code",
      "execution_count": 130,
      "metadata": {
        "id": "CvvlDg53hdVD"
      },
      "outputs": [],
      "source": [
        "def imshow(img):\n",
        "    np_img = img.numpy()\n",
        "    plt.imshow(np.transpose(np_img, (1, 2, 0)))\n",
        "    plt.show()\n",
        "\n",
        "images_paths = np.asarray(classification_file[\"file_name\"])\n",
        "images_targets = np.asarray(classification_file[\"target\"])\n",
        "\n",
        "# split to train and test\n",
        "X_train, X_test, y_train, y_test = train_test_split(images_paths, images_targets, stratify=images_targets, random_state = 50)\n",
        "\n",
        "# transform\n",
        "transform = transforms.Compose([transforms.Resize(255),\n",
        "                                transforms.CenterCrop(224),\n",
        "                                transforms.ToTensor()\n",
        "                                ])\n",
        "\n",
        "# create dataloaders\n",
        "train_dataset = PneumDataset(data_dir, X_train, y_train, transform)\n",
        "train_loader = DataLoader(train_dataset, batch_size=batch_size,\n",
        "                          shuffle=True, num_workers=num_workers)\n",
        "\n",
        "test_dataset = PneumDataset(data_dir, X_test, y_test, transform)\n",
        "test_loader = DataLoader(test_dataset, batch_size=batch_size,\n",
        "                         shuffle=False, num_workers=num_workers)\n"
      ]
    },
    {
      "cell_type": "markdown",
      "metadata": {},
      "source": [
        "Visualize a few images"
      ]
    },
    {
      "cell_type": "code",
      "execution_count": 131,
      "metadata": {},
      "outputs": [
        {
          "name": "stdout",
          "output_type": "stream",
          "text": [
            "One batch images shape: torch.Size([8, 3, 224, 224])\n",
            "One batch labels shape: torch.Size([8, 1])\n",
            "One iteration size: 190\n"
          ]
        },
        {
          "data": {
            "image/png": "[encoded data removed]",
            "text/plain": [
              "<Figure size 432x288 with 1 Axes>"
            ]
          },
          "metadata": {
            "needs_background": "light"
          },
          "output_type": "display_data"
        }
      ],
      "source": [
        "# get some random training images\n",
        "dataiter = iter(train_loader)\n",
        "example_images, example_labels = dataiter.next()  # random batch\n",
        "\n",
        "# batch shapes\n",
        "print(f'One batch images shape: {example_images.shape}')\n",
        "print(f'One batch labels shape: {example_labels.shape}')\n",
        "print(f'One iteration size: {len(dataiter)}')\n",
        "\n",
        "# show images\n",
        "img_grid = torchvision.utils.make_grid(example_images)\n",
        "imshow(img_grid)\n",
        "\n",
        "############## TENSORBOARD ########################\n",
        "writer.add_image('PNEUMOTHORAX image grid', img_grid)\n",
        "###################################################"
      ]
    },
    {
      "cell_type": "markdown",
      "metadata": {
        "id": "hLrWwGk-kwvU"
      },
      "source": [
        "model definition"
      ]
    },
    {
      "cell_type": "code",
      "execution_count": 132,
      "metadata": {
        "id": "zV8exRkkidNp"
      },
      "outputs": [],
      "source": [
        "class PneumNet(nn.Module):\n",
        "    def __init__(self):\n",
        "        super(PneumNet, self).__init__()\n",
        "        self.conv1 = nn.Conv2d(in_channels=3, out_channels=6, kernel_size=20)\n",
        "        self.pool1 = nn.MaxPool2d(2,2)\n",
        "        self.conv2 = nn.Conv2d(in_channels=6, out_channels=16, kernel_size=20)\n",
        "        self.pool2 = nn.MaxPool2d(2, 2)\n",
        "        # model_ft = models.resnet18(pretrained=True)\n",
        "        # num_ftrs = model_ft.fc.in_features\n",
        "        self.relu = nn.ReLU()\n",
        "        self.fc1 = nn.Linear(in_features =16*41*41, out_features=100 )\n",
        "        self.fc2 = nn.Linear(in_features=100, out_features = 50)\n",
        "        self.fc3 = nn.Linear(in_features=50, out_features=1)\n",
        "        self.sigmoid = nn.Sigmoid()\n",
        "\n",
        "    def forward(self, x):\n",
        "        x = self.relu(self.conv1(x))\n",
        "        x = self.pool1(x)\n",
        "        x = self.relu(self.conv2(x))\n",
        "        x = self.pool2(x)\n",
        "        x = x.view(x.size(0), -1)\n",
        "        x = self.relu(self.fc1(x))\n",
        "        x = self.relu(self.fc2(x))\n",
        "        x = self.fc3(x)\n",
        "        return x\n"
      ]
    },
    {
      "cell_type": "markdown",
      "metadata": {},
      "source": [
        "checking the shape after each model step"
      ]
    },
    {
      "cell_type": "code",
      "execution_count": 133,
      "metadata": {},
      "outputs": [
        {
          "name": "stdout",
          "output_type": "stream",
          "text": [
            "torch.Size([8, 6, 205, 205])\n",
            "torch.Size([8, 6, 102, 102])\n",
            "torch.Size([8, 16, 83, 83])\n",
            "torch.Size([8, 16, 41, 41])\n",
            "torch.Size([8, 26896])\n",
            "torch.Size([8, 100])\n",
            "torch.Size([8, 50])\n",
            "torch.Size([8, 1])\n"
          ]
        }
      ],
      "source": [
        "x = PneumNet().relu(PneumNet().conv1(example_images))\n",
        "print(x.shape)\n",
        "x = PneumNet().pool1(x)\n",
        "print(x.shape)\n",
        "x = PneumNet().relu(PneumNet().conv2(x))\n",
        "print(x.shape)\n",
        "x = PneumNet().pool2(x)\n",
        "print(x.shape)\n",
        "x = x.view(x.size(0), -1)\n",
        "print(x.shape)\n",
        "x = torch.relu(PneumNet().fc1(x))\n",
        "print(x.shape)\n",
        "x = torch.relu(PneumNet().fc2(x))\n",
        "print(x.shape)\n",
        "x = PneumNet().fc3(x)\n",
        "print(x.shape)\n"
      ]
    },
    {
      "cell_type": "markdown",
      "metadata": {
        "id": "dVeED0cKuNO0"
      },
      "source": [
        "loss, optimizer definition "
      ]
    },
    {
      "cell_type": "code",
      "execution_count": 134,
      "metadata": {},
      "outputs": [
        {
          "name": "stdout",
          "output_type": "stream",
          "text": [
            "Working on device: cuda\n"
          ]
        }
      ],
      "source": [
        "# device\n",
        "device = \"cpu\"\n",
        "if (torch.cuda.is_available()):\n",
        "    gc.collect()\n",
        "    torch.cuda.empty_cache()\n",
        "    device = \"cuda\"\n",
        "print(f\"Working on device: {device}\")\n",
        "\n",
        "# model\n",
        "model = PneumNet().to(device)\n",
        "\n",
        "# loss and optimizer\n",
        "criterion = nn.BCEWithLogitsLoss()  # binary cross entropy\n",
        "optimizer = torch.optim.Adam(model.parameters(), lr=learning_rate)\n",
        "\n",
        "############## TENSORBOARD ########################\n",
        "writer.add_graph(model, example_images.to(device))\n",
        "###################################################\n"
      ]
    },
    {
      "cell_type": "markdown",
      "metadata": {
        "id": "xdQYEufG5Ocu"
      },
      "source": [
        "train function"
      ]
    },
    {
      "cell_type": "code",
      "execution_count": 136,
      "metadata": {
        "colab": {
          "base_uri": "https://localhost:8080/"
        },
        "id": "1755tyn45LjC",
        "outputId": "c54e8f0b-e113-4c2d-8e8c-f2d0dbdc0456"
      },
      "outputs": [
        {
          "name": "stdout",
          "output_type": "stream",
          "text": [
            "Begin training. \n",
            "\n",
            "Epoch: 0/99 Loss: 0.4730 Acc: 80.9737\n",
            "Epoch: 1/99 Loss: 0.4669 Acc: 81.4000\n",
            "Epoch: 2/99 Loss: 0.4623 Acc: 81.5526\n",
            "Epoch: 3/99 Loss: 0.4616 Acc: 81.8263\n",
            "Epoch: 4/99 Loss: 0.4588 Acc: 81.7053\n",
            "Epoch: 5/99 Loss: 0.4589 Acc: 81.7947\n",
            "Epoch: 6/99 Loss: 0.4657 Acc: 81.3263\n",
            "Epoch: 7/99 Loss: 0.4862 Acc: 81.3211\n",
            "Epoch: 8/99 Loss: 0.4594 Acc: 81.7211\n",
            "Epoch: 9/99 Loss: 0.4903 Acc: 81.4000\n",
            "Epoch: 10/99 Loss: 0.4705 Acc: 81.5368\n",
            "Epoch: 11/99 Loss: 0.4552 Acc: 82.2000\n",
            "Epoch: 12/99 Loss: 0.4655 Acc: 81.8895\n",
            "Epoch: 13/99 Loss: 0.4572 Acc: 82.0158\n",
            "Epoch: 14/99 Loss: 0.4479 Acc: 82.4526\n",
            "Epoch: 15/99 Loss: 0.4498 Acc: 82.3474\n",
            "Epoch: 16/99 Loss: 0.4453 Acc: 82.5579\n",
            "Epoch: 17/99 Loss: 0.4426 Acc: 82.6053\n",
            "Epoch: 18/99 Loss: 0.4399 Acc: 82.6316\n",
            "Epoch: 19/99 Loss: 0.4387 Acc: 82.7474\n",
            "Epoch: 20/99 Loss: 0.4878 Acc: 81.7737\n",
            "Epoch: 21/99 Loss: 0.4467 Acc: 82.4000\n",
            "Epoch: 22/99 Loss: 0.4478 Acc: 82.7000\n",
            "Epoch: 23/99 Loss: 0.4390 Acc: 82.8211\n",
            "Epoch: 24/99 Loss: 0.4399 Acc: 82.6263\n",
            "Epoch: 25/99 Loss: 0.4378 Acc: 82.6000\n",
            "Epoch: 26/99 Loss: 0.4314 Acc: 82.8737\n",
            "Epoch: 27/99 Loss: 0.4299 Acc: 82.9632\n",
            "Epoch: 28/99 Loss: 0.4286 Acc: 83.1789\n",
            "Epoch: 29/99 Loss: 0.4345 Acc: 83.1053\n",
            "Epoch: 30/99 Loss: 0.4281 Acc: 83.0842\n",
            "Epoch: 31/99 Loss: 0.4690 Acc: 82.8000\n",
            "Epoch: 32/99 Loss: 0.4350 Acc: 82.8316\n",
            "Epoch: 33/99 Loss: 0.4886 Acc: 82.6158\n",
            "Epoch: 34/99 Loss: 0.4331 Acc: 83.1579\n",
            "Epoch: 35/99 Loss: 0.4240 Acc: 83.3579\n",
            "Epoch: 36/99 Loss: 0.4212 Acc: 83.6421\n",
            "Epoch: 37/99 Loss: 0.4197 Acc: 83.7053\n",
            "Epoch: 38/99 Loss: 0.4172 Acc: 83.7211\n",
            "Epoch: 39/99 Loss: 0.4172 Acc: 83.7632\n",
            "Epoch: 40/99 Loss: 0.4149 Acc: 83.7789\n",
            "Epoch: 41/99 Loss: 0.4160 Acc: 83.8316\n",
            "Epoch: 42/99 Loss: 0.4193 Acc: 83.4684\n",
            "Epoch: 43/99 Loss: 0.4160 Acc: 83.6789\n",
            "Epoch: 44/99 Loss: 0.4206 Acc: 83.4684\n",
            "Epoch: 45/99 Loss: 0.4283 Acc: 83.7053\n"
          ]
        },
        {
          "ename": "KeyboardInterrupt",
          "evalue": "",
          "output_type": "error",
          "traceback": [
            "\u001b[1;31m---------------------------------------------------------------------------\u001b[0m",
            "\u001b[1;31mKeyboardInterrupt\u001b[0m                         Traceback (most recent call last)",
            "Input \u001b[1;32mIn [136]\u001b[0m, in \u001b[0;36m<module>\u001b[1;34m\u001b[0m\n\u001b[0;32m     44\u001b[0m         \u001b[38;5;66;03m###################################################\u001b[39;00m\n\u001b[0;32m     47\u001b[0m \u001b[38;5;28mprint\u001b[39m(\u001b[38;5;124m\"\u001b[39m\u001b[38;5;124mBegin training. \u001b[39m\u001b[38;5;130;01m\\n\u001b[39;00m\u001b[38;5;124m\"\u001b[39m)\n\u001b[1;32m---> 48\u001b[0m \u001b[43mtrain\u001b[49m\u001b[43m(\u001b[49m\u001b[43mtrain_loader\u001b[49m\u001b[43m,\u001b[49m\u001b[43m \u001b[49m\u001b[43mmodel\u001b[49m\u001b[43m,\u001b[49m\u001b[43m \u001b[49m\u001b[43moptimizer\u001b[49m\u001b[43m,\u001b[49m\u001b[43m \u001b[49m\u001b[43mdevice\u001b[49m\u001b[43m,\u001b[49m\u001b[43m \u001b[49m\u001b[43mepochs\u001b[49m\u001b[43m)\u001b[49m\n",
            "Input \u001b[1;32mIn [136]\u001b[0m, in \u001b[0;36mtrain\u001b[1;34m(data_loader, model, optimizer, device, epochs)\u001b[0m\n\u001b[0;32m     31\u001b[0m     optimizer\u001b[38;5;241m.\u001b[39mstep()\n\u001b[0;32m     33\u001b[0m     \u001b[38;5;66;03m# Loss and Accuracy Track\u001b[39;00m\n\u001b[1;32m---> 34\u001b[0m     epoch_loss \u001b[38;5;241m+\u001b[39m\u001b[38;5;241m=\u001b[39m \u001b[43mloss\u001b[49m\u001b[38;5;241;43m.\u001b[39;49m\u001b[43mitem\u001b[49m\u001b[43m(\u001b[49m\u001b[43m)\u001b[49m\n\u001b[0;32m     35\u001b[0m     epoch_acc \u001b[38;5;241m+\u001b[39m\u001b[38;5;241m=\u001b[39m acc\u001b[38;5;241m.\u001b[39mitem()\n\u001b[0;32m     37\u001b[0m epoch_loss \u001b[38;5;241m=\u001b[39m epoch_loss\u001b[38;5;241m/\u001b[39mtrain_size\n",
            "\u001b[1;31mKeyboardInterrupt\u001b[0m: "
          ]
        }
      ],
      "source": [
        "def binary_acc(outputs, labels):\n",
        "    predicted = torch.round(torch.sigmoid(outputs))\n",
        "    correct_results_sum = (predicted == labels).sum().float()\n",
        "    acc = correct_results_sum/outputs.shape[0]\n",
        "    acc = torch.round(acc * 100)\n",
        "    return acc\n",
        "\n",
        "    \n",
        "def train(data_loader, model, optimizer, device, epochs):    \n",
        "    model.train()\n",
        "    \n",
        "    train_size = len(data_loader)\n",
        "        \n",
        "    for epoch in range(epochs):\n",
        "        epoch_loss = 0.0\n",
        "        epoch_acc = 0.0\n",
        "        \n",
        "        for i, data in enumerate(data_loader):\n",
        "            (images, labels) = data\n",
        "            images = images.to(device, dtype=torch.float)\n",
        "            labels = labels.to(device, dtype=torch.float)\n",
        "\n",
        "            # Forward\n",
        "            outputs = model(images)\n",
        "            loss = criterion(outputs, labels)\n",
        "            acc = binary_acc(outputs, labels)\n",
        "            \n",
        "            # Backward \n",
        "            optimizer.zero_grad()\n",
        "            loss.backward()\n",
        "            optimizer.step()\n",
        "            \n",
        "            # Loss and Accuracy Track\n",
        "            epoch_loss += loss.item()\n",
        "            epoch_acc += acc.item()\n",
        "        \n",
        "        epoch_loss = epoch_loss/train_size\n",
        "        epoch_acc = epoch_acc/train_size\n",
        "        print(f'Epoch: {epoch}/{ epochs - 1} Loss: {epoch_loss:.4f} Acc: {epoch_acc:.4f}')\n",
        "\n",
        "        ############## TENSORBOARD ########################\n",
        "        writer.add_scalar('training loss', epoch_loss, epoch)\n",
        "        writer.add_scalar('accuracy', epoch_acc, epoch)\n",
        "        ###################################################\n",
        "\n",
        "\n",
        "print(\"Begin training. \\n\")\n",
        "train(train_loader, model, optimizer, device, epochs)\n"
      ]
    },
    {
      "cell_type": "markdown",
      "metadata": {
        "id": "CrLAap_Z9N4x"
      },
      "source": [
        "test function"
      ]
    },
    {
      "cell_type": "code",
      "execution_count": 142,
      "metadata": {
        "colab": {
          "base_uri": "https://localhost:8080/"
        },
        "id": "OhH32jFS9KxC",
        "outputId": "ad7b71d7-9088-4485-b48b-a72f6659e925"
      },
      "outputs": [
        {
          "name": "stdout",
          "output_type": "stream",
          "text": [
            "Accuracy of the network on the 507 test images: 78.30374753451676 %\n"
          ]
        },
        {
          "data": {
            "text/plain": [
              "<sklearn.metrics._plot.confusion_matrix.ConfusionMatrixDisplay at 0x218ada8e040>"
            ]
          },
          "execution_count": 142,
          "metadata": {},
          "output_type": "execute_result"
        },
        {
          "data": {
            "image/png": "[encoded data removed]",
            "text/plain": [
              "<Figure size 432x288 with 2 Axes>"
            ]
          },
          "metadata": {
            "needs_background": "light"
          },
          "output_type": "display_data"
        }
      ],
      "source": [
        "def one_dimantion_label(labels):\n",
        "    labels = [np.squeeze(a).tolist() for a in labels]\n",
        "    new_labels = []\n",
        "    for batch in labels:\n",
        "        for b in batch:\n",
        "            new_labels.append(b)\n",
        "    return new_labels\n",
        "    \n",
        "def test(data_loader, model, device):\n",
        "    model.eval()\n",
        "    \n",
        "    # no_grad context\n",
        "    with torch.no_grad():\n",
        "        predicted_labels = []\n",
        "        original_labels = []\n",
        "        for data in data_loader:\n",
        "            (images, labels) = data\n",
        "\n",
        "            images = images.to(device, dtype=torch.float)\n",
        "            labels = labels.to(device, dtype=torch.float)\n",
        "\n",
        "            # predict\n",
        "            outputs = model(images)\n",
        "            \n",
        "            predicted = torch.round(torch.sigmoid(outputs))\n",
        "            predicted_labels.append(predicted.cpu().numpy())\n",
        "            original_labels.append(labels.cpu().numpy())\n",
        "\n",
        "        original_labels = one_dimantion_label(original_labels)\n",
        "        predicted_labels = one_dimantion_label(predicted_labels)\n",
        "        \n",
        "    return original_labels, predicted_labels\n",
        "\n",
        "\n",
        "original_labels, predicted_labels = test(test_loader, model, device=device)\n",
        "\n",
        "test_len = len(original_labels)\n",
        "correct_results_sum = sum([1 for (p, o) in zip(predicted_labels, original_labels) if p == o])\n",
        "total_acc = 100.0 * (correct_results_sum / test_len)\n",
        "print(f'Accuracy of the network on the {test_len} test images: {total_acc} %')\n",
        "    \n",
        "\n",
        "cm = confusion_matrix(original_labels, predicted_labels)\n",
        "cmd = ConfusionMatrixDisplay(cm, display_labels=classes)\n",
        "cmd.plot()\n",
        "\n",
        "# ############## TENSORBOARD ########################\n",
        "# for i in classes:\n",
        "#     labels_i = class_labels == i\n",
        "#     preds_i = class_preds[:, i]\n",
        "#     writer.add_pr_curve(str(i), labels_i, preds_i, global_step=0)\n",
        "# writer.close()\n",
        "# ###################################################\n"
      ]
    },
    {
      "cell_type": "code",
      "execution_count": null,
      "metadata": {
        "id": "FUAQ7b4158KT"
      },
      "outputs": [],
      "source": [
        "# def split_data():\n",
        "#     \"\"\"\n",
        "#     ONLY RUN ONCE!!!\n",
        "#     split the data to 2 class directory using the information from the data file\n",
        "#     \"\"\"\n",
        "\n",
        "#     for row, file_name in enumerate(classification_file[\"file_name\"]):\n",
        "#       lable = classification_file[\"target\"][row]\n",
        "#       original_path = os.path.join(data_dir, file_name)\n",
        "      \n",
        "#       if lable == PENUMOTHORAX:\n",
        "#         dest_path = os.path.join(Pneumothorax_dir, file_name)\n",
        "#       elif lable == NOT_PENUMOTHORAX:\n",
        "#         dest_path = os.path.join(not_Pneumothorax_dir, file_name)\n",
        "\n",
        "#       shutil.copy(original_path,dest_path)\n",
        "\n",
        "\n"
      ]
    },
    {
      "cell_type": "code",
      "execution_count": null,
      "metadata": {
        "id": "OpJNLI3GhAof"
      },
      "outputs": [],
      "source": [
        "# # Train and evaluate functions \n",
        "\n",
        "# def train(data_loader, model, optimizer, device):\n",
        "#     \"\"\"\n",
        "#     training for one epoch with selected model and params\n",
        "#      data_loader:  pytorch dataloader\n",
        "#      model: pytorch model\n",
        "#      optimizer: optimizer \n",
        "#      device: cuda/cpu\n",
        "#     \"\"\"\n",
        "#     # set training mode \n",
        "#     model.train()\n",
        "#     # go over every batch of data in data loader\n",
        "#     for data in data_loader:\n",
        "#         inputs = data[\"image\"]\n",
        "#         targets = data[\"targets\"]\n",
        "#         # move inputs/targets to cuda/cpu device\n",
        "#         inputs = inputs.to(device, dtype=torch.float)\n",
        "#         targets = targets.to(device, dtype=torch.float)\n",
        "#         # zero grad the optimizer\n",
        "#         optimizer.zero_grad()\n",
        "#         # do the forward step of model\n",
        "#         outputs = model(inputs)\n",
        "#         # calculate loss\n",
        "#         loss = nn.BCEWithLogitsLoss()(outputs, targets.view(-1, 1))\n",
        "#         # backward step the loss\n",
        "#         loss.backward()\n",
        "#         # step optimizer\n",
        "#         optimizer.step()\n",
        "        \n",
        "# def evaluate(data_loader, model, device):\n",
        "#     \"\"\"\n",
        "#     Evaluation for one epoch\n",
        "#     data_loader: this is the pytorch dataloader\n",
        "#     model: pytorch model\n",
        "#     device: cuda/cpu\n",
        "#     \"\"\"\n",
        "#     # put model in evaluation mode\n",
        "#     model.eval()\n",
        "#     # init lists to store targets and outputs\n",
        "#     final_targets = []\n",
        "#     final_outputs = []\n",
        "#     # no_grad context\n",
        "#     with torch.no_grad():\n",
        "#         for data in data_loader:\n",
        "#             inputs = data[\"image\"]\n",
        "#             targets = data[\"targets\"]\n",
        "#             inputs = inputs.to(device, dtype=torch.float)\n",
        "#             targets = targets.to(device, dtype=torch.float)\n",
        "#             # generate prediction\n",
        "#             output = model(inputs)\n",
        "#             # convert targets and outputs to lists\n",
        "#             targets = targets.detach().cpu().numpy().tolist()\n",
        "#             output = output.detach().cpu().numpy().tolist()\n",
        "#             # extend the original list\n",
        "#             final_targets.extend(targets)\n",
        "#             final_outputs.extend(output)\n",
        "            \n",
        "#     return final_outputs, final_targets\n",
        "# # train and print auc score for all epochs\n",
        "# for epoch in tqdm(range(EPOCHS)):\n",
        "#     # train \n",
        "#     train(train_loader, model, optimizer, device=device)\n",
        "#     # predict \n",
        "#     predictions, valid_targets = evaluate(valid_loader, model, device=device)\n",
        "#     # metrics \n",
        "#     roc_auc = metrics.roc_auc_score(valid_targets, predictions)\n",
        "#     print(f\"Epoch={epoch}, Valid ROC AUC={roc_auc}\")\n",
        "\n",
        "    "
      ]
    }
  ],
  "metadata": {
    "accelerator": "GPU",
    "colab": {
      "collapsed_sections": [],
      "name": "neural network project.ipynb",
      "provenance": []
    },
    "kernelspec": {
      "display_name": "Python 3",
      "name": "python3"
    },
    "language_info": {
      "codemirror_mode": {
        "name": "ipython",
        "version": 3
      },
      "file_extension": ".py",
      "mimetype": "text/x-python",
      "name": "python",
      "nbconvert_exporter": "python",
      "pygments_lexer": "ipython3",
      "version": "3.9.7"
    }
  },
  "nbformat": 4,
  "nbformat_minor": 0
}
