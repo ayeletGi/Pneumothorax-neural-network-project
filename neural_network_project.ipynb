{
  "cells": [
    {
      "cell_type": "markdown",
      "metadata": {},
      "source": [
        "imports"
      ]
    },
    {
      "cell_type": "code",
      "execution_count": 277,
      "metadata": {},
      "outputs": [],
      "source": [
        "import torch\n",
        "import torch.nn as nn\n",
        "import torch.nn.functional as F\n",
        "import torchvision\n",
        "from torchvision import models\n",
        "from torch.utils.data import Dataset, DataLoader\n",
        "from torchvision import transforms\n",
        "from torch.utils.tensorboard import SummaryWriter\n",
        "from sklearn import metrics\n",
        "from sklearn.model_selection import train_test_split\n",
        "import matplotlib.pyplot as plt\n",
        "from PIL import Image\n",
        "import pandas as pd\n",
        "import numpy as np\n",
        "import os\n",
        "import gc\n"
      ]
    },
    {
      "cell_type": "markdown",
      "metadata": {},
      "source": [
        "paths and globals definitions"
      ]
    },
    {
      "cell_type": "code",
      "execution_count": 278,
      "metadata": {},
      "outputs": [
        {
          "data": {
            "text/plain": [
              "'run this if you are working from google colab!!'"
            ]
          },
          "execution_count": 278,
          "metadata": {},
          "output_type": "execute_result"
        }
      ],
      "source": [
        "\"\"\"run this if you are working from google colab!!\"\"\"\n",
        "# from google.colab import drive\n",
        "# drive.mount('/content/gdrive')\n",
        "# code_dir = \"/content/gdrive/MyDrive/neural network project\""
      ]
    },
    {
      "cell_type": "code",
      "execution_count": 279,
      "metadata": {},
      "outputs": [],
      "source": [
        "\"\"\"run this if you are working from your local computer!!\"\"\"\n",
        "code_dir = os.getcwd()"
      ]
    },
    {
      "cell_type": "code",
      "execution_count": 280,
      "metadata": {
        "colab": {
          "base_uri": "https://localhost:8080/"
        },
        "id": "noXflhbhh0Za",
        "outputId": "e51dede0-ddd0-4112-c5da-08ca124763c1"
      },
      "outputs": [],
      "source": [
        "############## TENSORBOARD ########################\n",
        "writer = SummaryWriter(\"runs/PNEUMOTHORAX\")\n",
        "###################################################\n",
        "\n",
        "data_dir = os.path.join(code_dir, \"Data\")\n",
        "class_file_path = os.path.join(code_dir, \"train_data.csv\")\n",
        "\n",
        "PNEUMOTHORAX = 1\n",
        "NOT_PNEUMOTHORAX = 0\n",
        "classes = {PNEUMOTHORAX, NOT_PNEUMOTHORAX}\n",
        "num_classes = len(classes)\n",
        "\n",
        "classification_file = pd.read_csv(class_file_path, header=0)\n",
        "\n",
        "# Hyper-parameters\n",
        "batch_size = 8\n",
        "num_workers = 0\n",
        "epochs = 10\n",
        "learning_rate = 0.01\n",
        "image_size = 200\n"
      ]
    },
    {
      "cell_type": "markdown",
      "metadata": {
        "id": "8gCbCaXHky8h"
      },
      "source": [
        "dataset definition"
      ]
    },
    {
      "cell_type": "code",
      "execution_count": 281,
      "metadata": {
        "id": "uvsp2Ex40qlg"
      },
      "outputs": [],
      "source": [
        "class PneumDataset(Dataset):\n",
        "    def __init__(self, data_path, images_paths, labels, transform):\n",
        "        # init custom dataset attributes\n",
        "        self.data_path = data_path\n",
        "        self.X_images = images_paths\n",
        "        self.y_labels = labels\n",
        "        self.transform = transform\n",
        "\n",
        "    def __len__(self):\n",
        "        # len of the dataset\n",
        "        return len(self.X_images)\n",
        "\n",
        "    def __getitem__(self, index):\n",
        "        # get specific sample by index\n",
        "        img_path = self.X_images[index]\n",
        "        label = self.y_labels[index]\n",
        "\n",
        "        # opening the image\n",
        "        path = os.path.join(self.data_path, img_path)\n",
        "        image = Image.open(path)\n",
        "        image = image.convert(\"RGB\")\n",
        "        \n",
        "        # converting x,y to tensors\n",
        "        image = self.transform(image)\n",
        "        label = torch.tensor(label, dtype=torch.long)\n",
        "        label = label.view(1)\n",
        "        return image, label"
      ]
    },
    {
      "cell_type": "markdown",
      "metadata": {},
      "source": [
        "loading and splitting the data"
      ]
    },
    {
      "cell_type": "code",
      "execution_count": 282,
      "metadata": {
        "id": "CvvlDg53hdVD"
      },
      "outputs": [
        {
          "name": "stdout",
          "output_type": "stream",
          "text": [
            "One batch images shape: torch.Size([8, 3, 200, 200])\n",
            "One batch labels shape: torch.Size([8, 1])\n"
          ]
        },
        {
          "data": {
            "image/png": "[encoded data removed]",
            "text/plain": [
              "<Figure size 432x288 with 1 Axes>"
            ]
          },
          "metadata": {
            "needs_background": "light"
          },
          "output_type": "display_data"
        }
      ],
      "source": [
        "def imshow(img):\n",
        "    np_img = img.numpy()\n",
        "    plt.imshow(np.transpose(np_img, (1, 2, 0)))\n",
        "    plt.show()\n",
        "\n",
        "images_paths = np.asarray(classification_file[\"file_name\"])\n",
        "images_targets = np.asarray(classification_file[\"target\"])\n",
        "\n",
        "# split to train and test\n",
        "X_train, X_test, y_train, y_test = train_test_split(images_paths, images_targets, stratify=images_targets, random_state = 50)\n",
        "\n",
        "# transform\n",
        "transform = transforms.Compose([transforms.Resize(image_size),\n",
        "                                # transforms.CenterCrop(image_size - 10),\n",
        "                                transforms.ToTensor()])\n",
        "\n",
        "# create dataloaders\n",
        "train_dataset = PneumDataset(data_dir, X_train, y_train, transform)\n",
        "train_loader = DataLoader(train_dataset, batch_size=batch_size,\n",
        "                          shuffle=True, num_workers=num_workers)\n",
        "\n",
        "test_dataset = PneumDataset(data_dir, X_test, y_test, transform)\n",
        "test_loader = DataLoader(test_dataset, batch_size=batch_size,\n",
        "                         shuffle=False, num_workers=num_workers)\n",
        "\n",
        "# get some random training images\n",
        "dataiter = iter(train_loader)\n",
        "example_images, example_labels = dataiter.next()  # random batch\n",
        "\n",
        "# batch shapes\n",
        "print(f'One batch images shape: {example_images.shape}')\n",
        "print(f'One batch labels shape: {example_labels.shape}')\n",
        "\n",
        "# show images\n",
        "img_grid = torchvision.utils.make_grid(example_images)\n",
        "imshow(img_grid)\n",
        "\n",
        "############## TENSORBOARD ########################\n",
        "writer.add_image('PNEUMOTHORAX image grid', img_grid)\n",
        "###################################################\n"
      ]
    },
    {
      "cell_type": "markdown",
      "metadata": {
        "id": "hLrWwGk-kwvU"
      },
      "source": [
        "model definition"
      ]
    },
    {
      "cell_type": "code",
      "execution_count": 283,
      "metadata": {
        "id": "zV8exRkkidNp"
      },
      "outputs": [],
      "source": [
        "class PneumNet(nn.Module):\n",
        "    def __init__(self):\n",
        "        super(PneumNet, self).__init__()\n",
        "        self.conv1 = nn.Conv2d(in_channels=3, out_channels=6, kernel_size=20)\n",
        "        self.pool = nn.MaxPool2d(2,2)\n",
        "        self.conv2 = nn.Conv2d(in_channels=6, out_channels=16, kernel_size=20)\n",
        "        self.fc1 = nn.Linear(in_features =16*35*35, out_features=100 )\n",
        "        self.fc2 = nn.Linear(in_features=100, out_features = 50)\n",
        "        self.fc3 = nn.Linear(in_features=50, out_features=1)\n",
        "\n",
        "\n",
        "    def forward(self, x):\n",
        "        x = self.pool(torch.relu(self.conv1(x)))\n",
        "        # print(x.shape)\n",
        "        x = self.pool(torch.relu(self.conv2(x)))\n",
        "        # print(x.shape)\n",
        "        x = x.view(x.size(0), -1)\n",
        "        # print(x.shape)\n",
        "        x = torch.relu(self.fc1(x))\n",
        "        # print(x.shape)\n",
        "        x = torch.relu(self.fc2(x))\n",
        "        # print(x.shape)\n",
        "        x = torch.sigmoid(self.fc3(x))\n",
        "        # print(x.shape)\n",
        "        return x\n"
      ]
    },
    {
      "cell_type": "markdown",
      "metadata": {
        "id": "dVeED0cKuNO0"
      },
      "source": [
        "loss, optimizer definition "
      ]
    },
    {
      "cell_type": "code",
      "execution_count": 284,
      "metadata": {},
      "outputs": [
        {
          "name": "stdout",
          "output_type": "stream",
          "text": [
            "Working on device: cuda\n"
          ]
        }
      ],
      "source": [
        "# device\n",
        "device = \"cpu\"\n",
        "if (torch.cuda.is_available()):\n",
        "    gc.collect()\n",
        "    torch.cuda.empty_cache()\n",
        "    device = \"cuda\"\n",
        "print(f\"Working on device: {device}\")\n",
        "\n",
        "# model\n",
        "model = PneumNet().to(device)\n",
        "\n",
        "# loss and optimizer\n",
        "criterion = nn.BCELoss()  # binary cross entropy\n",
        "optimizer = torch.optim.SGD(model.parameters(), lr=learning_rate)\n",
        "\n",
        "############## TENSORBOARD ########################\n",
        "writer.add_graph(model, example_images.to(device))\n",
        "###################################################\n"
      ]
    },
    {
      "cell_type": "markdown",
      "metadata": {
        "id": "xdQYEufG5Ocu"
      },
      "source": [
        "train function"
      ]
    },
    {
      "cell_type": "code",
      "execution_count": 286,
      "metadata": {
        "colab": {
          "base_uri": "https://localhost:8080/"
        },
        "id": "1755tyn45LjC",
        "outputId": "c54e8f0b-e113-4c2d-8e8c-f2d0dbdc0456"
      },
      "outputs": [
        {
          "name": "stdout",
          "output_type": "stream",
          "text": [
            "starting training\n",
            "Epoch [1/10], Step [10/190], Loss: 0.4213\n",
            "Epoch [1/10], Step [20/190], Loss: 0.7189\n",
            "Epoch [1/10], Step [30/190], Loss: 0.6838\n",
            "Epoch [1/10], Step [40/190], Loss: 0.5841\n",
            "Epoch [1/10], Step [50/190], Loss: 0.3575\n",
            "Epoch [1/10], Step [60/190], Loss: 0.3724\n",
            "Epoch [1/10], Step [70/190], Loss: 0.4075\n",
            "Epoch [1/10], Step [80/190], Loss: 0.9847\n",
            "Epoch [1/10], Step [90/190], Loss: 0.4551\n",
            "Epoch [1/10], Step [100/190], Loss: 0.7837\n",
            "Epoch [1/10], Step [110/190], Loss: 0.6112\n",
            "Epoch [1/10], Step [120/190], Loss: 0.3672\n",
            "Epoch [1/10], Step [130/190], Loss: 0.4023\n",
            "Epoch [1/10], Step [140/190], Loss: 0.6762\n",
            "Epoch [1/10], Step [150/190], Loss: 0.4038\n",
            "Epoch [1/10], Step [160/190], Loss: 0.3473\n",
            "Epoch [1/10], Step [170/190], Loss: 0.4613\n",
            "Epoch [1/10], Step [180/190], Loss: 0.4553\n",
            "Epoch [1/10], Step [190/190], Loss: 0.5469\n",
            "Epoch [2/10], Step [10/190], Loss: 0.3762\n",
            "Epoch [2/10], Step [20/190], Loss: 0.3970\n",
            "Epoch [2/10], Step [30/190], Loss: 0.6616\n",
            "Epoch [2/10], Step [40/190], Loss: 0.6462\n",
            "Epoch [2/10], Step [50/190], Loss: 0.3602\n",
            "Epoch [2/10], Step [60/190], Loss: 0.3092\n",
            "Epoch [2/10], Step [70/190], Loss: 0.5800\n",
            "Epoch [2/10], Step [80/190], Loss: 0.4258\n",
            "Epoch [2/10], Step [90/190], Loss: 0.6404\n",
            "Epoch [2/10], Step [100/190], Loss: 0.4963\n",
            "Epoch [2/10], Step [110/190], Loss: 0.5642\n",
            "Epoch [2/10], Step [120/190], Loss: 0.1954\n",
            "Epoch [2/10], Step [130/190], Loss: 0.5382\n",
            "Epoch [2/10], Step [140/190], Loss: 0.4577\n",
            "Epoch [2/10], Step [150/190], Loss: 0.4537\n",
            "Epoch [2/10], Step [160/190], Loss: 0.9689\n",
            "Epoch [2/10], Step [170/190], Loss: 0.6503\n",
            "Epoch [2/10], Step [180/190], Loss: 0.4760\n",
            "Epoch [2/10], Step [190/190], Loss: 1.2213\n",
            "Epoch [3/10], Step [10/190], Loss: 0.6616\n",
            "Epoch [3/10], Step [20/190], Loss: 0.4158\n",
            "Epoch [3/10], Step [30/190], Loss: 0.6192\n",
            "Epoch [3/10], Step [40/190], Loss: 0.5648\n",
            "Epoch [3/10], Step [50/190], Loss: 0.3452\n",
            "Epoch [3/10], Step [60/190], Loss: 0.8927\n",
            "Epoch [3/10], Step [70/190], Loss: 0.4262\n",
            "Epoch [3/10], Step [80/190], Loss: 0.1449\n",
            "Epoch [3/10], Step [90/190], Loss: 0.6063\n",
            "Epoch [3/10], Step [100/190], Loss: 0.4857\n",
            "Epoch [3/10], Step [110/190], Loss: 0.6888\n",
            "Epoch [3/10], Step [120/190], Loss: 0.4242\n",
            "Epoch [3/10], Step [130/190], Loss: 0.1131\n",
            "Epoch [3/10], Step [140/190], Loss: 0.5798\n",
            "Epoch [3/10], Step [150/190], Loss: 0.4446\n",
            "Epoch [3/10], Step [160/190], Loss: 0.7814\n",
            "Epoch [3/10], Step [170/190], Loss: 0.3645\n",
            "Epoch [3/10], Step [180/190], Loss: 0.4581\n",
            "Epoch [3/10], Step [190/190], Loss: 0.2443\n",
            "Epoch [4/10], Step [10/190], Loss: 0.5036\n",
            "Epoch [4/10], Step [20/190], Loss: 0.3915\n",
            "Epoch [4/10], Step [30/190], Loss: 0.1569\n",
            "Epoch [4/10], Step [40/190], Loss: 0.5531\n",
            "Epoch [4/10], Step [50/190], Loss: 0.4165\n",
            "Epoch [4/10], Step [60/190], Loss: 0.3782\n",
            "Epoch [4/10], Step [70/190], Loss: 0.6492\n",
            "Epoch [4/10], Step [80/190], Loss: 0.4189\n",
            "Epoch [4/10], Step [90/190], Loss: 0.6352\n",
            "Epoch [4/10], Step [100/190], Loss: 0.6585\n",
            "Epoch [4/10], Step [110/190], Loss: 0.5625\n",
            "Epoch [4/10], Step [120/190], Loss: 0.4207\n",
            "Epoch [4/10], Step [130/190], Loss: 0.6799\n",
            "Epoch [4/10], Step [140/190], Loss: 0.4069\n",
            "Epoch [4/10], Step [150/190], Loss: 0.4931\n",
            "Epoch [4/10], Step [160/190], Loss: 0.5714\n",
            "Epoch [4/10], Step [170/190], Loss: 0.5444\n",
            "Epoch [4/10], Step [180/190], Loss: 0.5906\n",
            "Epoch [4/10], Step [190/190], Loss: 0.5761\n",
            "Epoch [5/10], Step [10/190], Loss: 0.5648\n",
            "Epoch [5/10], Step [20/190], Loss: 0.7698\n",
            "Epoch [5/10], Step [30/190], Loss: 0.3529\n",
            "Epoch [5/10], Step [40/190], Loss: 0.2610\n",
            "Epoch [5/10], Step [50/190], Loss: 0.5176\n",
            "Epoch [5/10], Step [60/190], Loss: 0.5962\n",
            "Epoch [5/10], Step [70/190], Loss: 0.5494\n",
            "Epoch [5/10], Step [80/190], Loss: 0.6337\n",
            "Epoch [5/10], Step [90/190], Loss: 0.4633\n",
            "Epoch [5/10], Step [100/190], Loss: 0.5736\n",
            "Epoch [5/10], Step [110/190], Loss: 0.7324\n",
            "Epoch [5/10], Step [120/190], Loss: 0.7893\n",
            "Epoch [5/10], Step [130/190], Loss: 0.7091\n",
            "Epoch [5/10], Step [140/190], Loss: 0.4257\n",
            "Epoch [5/10], Step [150/190], Loss: 0.5939\n",
            "Epoch [5/10], Step [160/190], Loss: 0.4502\n",
            "Epoch [5/10], Step [170/190], Loss: 1.0437\n",
            "Epoch [5/10], Step [180/190], Loss: 0.5754\n",
            "Epoch [5/10], Step [190/190], Loss: 0.4279\n",
            "Epoch [6/10], Step [10/190], Loss: 0.3857\n",
            "Epoch [6/10], Step [20/190], Loss: 0.5498\n",
            "Epoch [6/10], Step [30/190], Loss: 0.5257\n",
            "Epoch [6/10], Step [40/190], Loss: 0.8364\n",
            "Epoch [6/10], Step [50/190], Loss: 0.4960\n",
            "Epoch [6/10], Step [60/190], Loss: 0.3710\n",
            "Epoch [6/10], Step [70/190], Loss: 0.0736\n",
            "Epoch [6/10], Step [80/190], Loss: 0.5615\n",
            "Epoch [6/10], Step [90/190], Loss: 0.3856\n",
            "Epoch [6/10], Step [100/190], Loss: 0.2703\n",
            "Epoch [6/10], Step [110/190], Loss: 0.7967\n",
            "Epoch [6/10], Step [120/190], Loss: 0.6653\n",
            "Epoch [6/10], Step [130/190], Loss: 0.5056\n",
            "Epoch [6/10], Step [140/190], Loss: 0.5786\n",
            "Epoch [6/10], Step [150/190], Loss: 0.6811\n",
            "Epoch [6/10], Step [160/190], Loss: 0.7471\n",
            "Epoch [6/10], Step [170/190], Loss: 0.6246\n",
            "Epoch [6/10], Step [180/190], Loss: 0.7169\n",
            "Epoch [6/10], Step [190/190], Loss: 0.7329\n",
            "Epoch [7/10], Step [10/190], Loss: 0.4340\n",
            "Epoch [7/10], Step [20/190], Loss: 0.3942\n",
            "Epoch [7/10], Step [30/190], Loss: 0.4717\n",
            "Epoch [7/10], Step [40/190], Loss: 0.4869\n",
            "Epoch [7/10], Step [50/190], Loss: 0.5328\n",
            "Epoch [7/10], Step [60/190], Loss: 0.6010\n",
            "Epoch [7/10], Step [70/190], Loss: 0.5989\n",
            "Epoch [7/10], Step [80/190], Loss: 0.3427\n",
            "Epoch [7/10], Step [90/190], Loss: 0.4723\n",
            "Epoch [7/10], Step [100/190], Loss: 0.3676\n",
            "Epoch [7/10], Step [110/190], Loss: 0.3612\n",
            "Epoch [7/10], Step [120/190], Loss: 0.3928\n",
            "Epoch [7/10], Step [130/190], Loss: 0.6446\n",
            "Epoch [7/10], Step [140/190], Loss: 0.5375\n",
            "Epoch [7/10], Step [150/190], Loss: 0.6172\n",
            "Epoch [7/10], Step [160/190], Loss: 0.6591\n",
            "Epoch [7/10], Step [170/190], Loss: 0.5448\n",
            "Epoch [7/10], Step [180/190], Loss: 0.3533\n",
            "Epoch [7/10], Step [190/190], Loss: 0.1188\n",
            "Epoch [8/10], Step [10/190], Loss: 0.5567\n",
            "Epoch [8/10], Step [20/190], Loss: 0.5463\n",
            "Epoch [8/10], Step [30/190], Loss: 0.4256\n",
            "Epoch [8/10], Step [40/190], Loss: 0.5671\n",
            "Epoch [8/10], Step [50/190], Loss: 0.5527\n",
            "Epoch [8/10], Step [60/190], Loss: 0.3871\n",
            "Epoch [8/10], Step [70/190], Loss: 0.7992\n",
            "Epoch [8/10], Step [80/190], Loss: 0.5534\n",
            "Epoch [8/10], Step [90/190], Loss: 0.5748\n",
            "Epoch [8/10], Step [100/190], Loss: 0.5992\n",
            "Epoch [8/10], Step [110/190], Loss: 1.2009\n",
            "Epoch [8/10], Step [120/190], Loss: 0.6752\n",
            "Epoch [8/10], Step [130/190], Loss: 0.3394\n",
            "Epoch [8/10], Step [140/190], Loss: 0.5427\n",
            "Epoch [8/10], Step [150/190], Loss: 0.6396\n",
            "Epoch [8/10], Step [160/190], Loss: 0.5515\n",
            "Epoch [8/10], Step [170/190], Loss: 0.7033\n",
            "Epoch [8/10], Step [180/190], Loss: 0.4415\n",
            "Epoch [8/10], Step [190/190], Loss: 0.3336\n",
            "Epoch [9/10], Step [10/190], Loss: 0.2497\n",
            "Epoch [9/10], Step [20/190], Loss: 0.5655\n",
            "Epoch [9/10], Step [30/190], Loss: 0.6492\n",
            "Epoch [9/10], Step [40/190], Loss: 0.1508\n",
            "Epoch [9/10], Step [50/190], Loss: 0.6750\n",
            "Epoch [9/10], Step [60/190], Loss: 0.4753\n",
            "Epoch [9/10], Step [70/190], Loss: 0.4485\n",
            "Epoch [9/10], Step [80/190], Loss: 0.2056\n",
            "Epoch [9/10], Step [90/190], Loss: 0.4418\n",
            "Epoch [9/10], Step [100/190], Loss: 0.3647\n",
            "Epoch [9/10], Step [110/190], Loss: 0.4023\n",
            "Epoch [9/10], Step [120/190], Loss: 0.3265\n",
            "Epoch [9/10], Step [130/190], Loss: 0.7671\n",
            "Epoch [9/10], Step [140/190], Loss: 0.6052\n",
            "Epoch [9/10], Step [150/190], Loss: 0.5061\n",
            "Epoch [9/10], Step [160/190], Loss: 0.5909\n",
            "Epoch [9/10], Step [170/190], Loss: 0.5947\n",
            "Epoch [9/10], Step [180/190], Loss: 0.6641\n",
            "Epoch [9/10], Step [190/190], Loss: 0.4217\n",
            "Epoch [10/10], Step [10/190], Loss: 0.6197\n",
            "Epoch [10/10], Step [20/190], Loss: 0.5695\n",
            "Epoch [10/10], Step [30/190], Loss: 0.4141\n",
            "Epoch [10/10], Step [40/190], Loss: 0.5619\n",
            "Epoch [10/10], Step [50/190], Loss: 0.5408\n",
            "Epoch [10/10], Step [60/190], Loss: 0.3679\n",
            "Epoch [10/10], Step [70/190], Loss: 0.7786\n",
            "Epoch [10/10], Step [80/190], Loss: 0.4413\n",
            "Epoch [10/10], Step [90/190], Loss: 0.5073\n",
            "Epoch [10/10], Step [100/190], Loss: 0.3299\n",
            "Epoch [10/10], Step [110/190], Loss: 0.4686\n",
            "Epoch [10/10], Step [120/190], Loss: 0.3887\n",
            "Epoch [10/10], Step [130/190], Loss: 0.7397\n",
            "Epoch [10/10], Step [140/190], Loss: 0.3483\n",
            "Epoch [10/10], Step [150/190], Loss: 0.4105\n",
            "Epoch [10/10], Step [160/190], Loss: 0.6602\n",
            "Epoch [10/10], Step [170/190], Loss: 0.6586\n",
            "Epoch [10/10], Step [180/190], Loss: 0.3697\n",
            "Epoch [10/10], Step [190/190], Loss: 0.7682\n"
          ]
        }
      ],
      "source": [
        "def train(data_loader, model, optimizer, device, epochs, samples_num):    \n",
        "    model.train()\n",
        "    \n",
        "    num_steps = len(train_loader)\n",
        "    running_loss = 0.0 \n",
        "    running_correct = 0.0\n",
        "    threshold = 0.6\n",
        "    \n",
        "    for epoch in range(epochs):\n",
        "        for i, data in enumerate(data_loader):\n",
        "            (images, labels) = data\n",
        "            images = images.to(device, dtype=torch.float)\n",
        "            labels = labels.to(device, dtype=torch.float)\n",
        "\n",
        "            # Forward\n",
        "            outputs = model(images)\n",
        "            loss = criterion(outputs, labels)\n",
        "\n",
        "            # Backward \n",
        "            optimizer.zero_grad()\n",
        "            loss.backward()\n",
        "            optimizer.step()\n",
        "            \n",
        "            predicted = outputs > threshold\n",
        "            running_loss += loss.item()\n",
        "            running_correct += (predicted == labels).sum().item()\n",
        "            \n",
        "            if (i+1) % 10 == 0:\n",
        "                print(f'Epoch [{epoch+1}/{epochs}], Step [{i+1}/{num_steps}], Loss: {loss.item():.4f}')\n",
        "                ############## TENSORBOARD ########################\n",
        "                writer.add_scalar('training loss', running_loss /\n",
        "                                  100, epoch * num_steps + i)\n",
        "                running_accuracy = running_correct / 100 / predicted.size(0)\n",
        "                writer.add_scalar('accuracy', running_accuracy,\n",
        "                                  epoch * num_steps + i)\n",
        "                running_correct = 0\n",
        "                running_loss = 0.0\n",
        "                ###################################################\n",
        "\n",
        "\n",
        "print(\"starting training\")\n",
        "train(train_loader, model, optimizer, device, epochs, len(train_dataset))\n"
      ]
    },
    {
      "cell_type": "markdown",
      "metadata": {
        "id": "CrLAap_Z9N4x"
      },
      "source": [
        "test function"
      ]
    },
    {
      "cell_type": "code",
      "execution_count": 292,
      "metadata": {
        "colab": {
          "base_uri": "https://localhost:8080/"
        },
        "id": "OhH32jFS9KxC",
        "outputId": "ad7b71d7-9088-4485-b48b-a72f6659e925"
      },
      "outputs": [
        {
          "name": "stdout",
          "output_type": "stream",
          "text": [
            "Accuracy of the network on the 10000 test images: 77.51479289940828 %\n"
          ]
        },
        {
          "ename": "ValueError",
          "evalue": "weights should have the same shape as a.",
          "output_type": "error",
          "traceback": [
            "\u001b[1;31m---------------------------------------------------------------------------\u001b[0m",
            "\u001b[1;31mValueError\u001b[0m                                Traceback (most recent call last)",
            "Input \u001b[1;32mIn [292]\u001b[0m, in \u001b[0;36m<module>\u001b[1;34m\u001b[0m\n\u001b[0;32m     41\u001b[0m     labels_i \u001b[38;5;241m=\u001b[39m class_labels \u001b[38;5;241m==\u001b[39m i\n\u001b[0;32m     42\u001b[0m     preds_i \u001b[38;5;241m=\u001b[39m class_preds[:, i]\n\u001b[1;32m---> 43\u001b[0m     \u001b[43mwriter\u001b[49m\u001b[38;5;241;43m.\u001b[39;49m\u001b[43madd_pr_curve\u001b[49m\u001b[43m(\u001b[49m\u001b[38;5;28;43mstr\u001b[39;49m\u001b[43m(\u001b[49m\u001b[43mi\u001b[49m\u001b[43m)\u001b[49m\u001b[43m,\u001b[49m\u001b[43m \u001b[49m\u001b[43mlabels_i\u001b[49m\u001b[43m,\u001b[49m\u001b[43m \u001b[49m\u001b[43mpreds_i\u001b[49m\u001b[43m,\u001b[49m\u001b[43m \u001b[49m\u001b[43mglobal_step\u001b[49m\u001b[38;5;241;43m=\u001b[39;49m\u001b[38;5;241;43m0\u001b[39;49m\u001b[43m)\u001b[49m\n\u001b[0;32m     44\u001b[0m writer\u001b[38;5;241m.\u001b[39mclose()\n",
            "File \u001b[1;32m~\\anaconda3\\envs\\pytorch\\lib\\site-packages\\torch\\utils\\tensorboard\\writer.py:881\u001b[0m, in \u001b[0;36mSummaryWriter.add_pr_curve\u001b[1;34m(self, tag, labels, predictions, global_step, num_thresholds, weights, walltime)\u001b[0m\n\u001b[0;32m    878\u001b[0m torch\u001b[38;5;241m.\u001b[39m_C\u001b[38;5;241m.\u001b[39m_log_api_usage_once(\u001b[38;5;124m\"\u001b[39m\u001b[38;5;124mtensorboard.logging.add_pr_curve\u001b[39m\u001b[38;5;124m\"\u001b[39m)\n\u001b[0;32m    879\u001b[0m labels, predictions \u001b[38;5;241m=\u001b[39m make_np(labels), make_np(predictions)\n\u001b[0;32m    880\u001b[0m \u001b[38;5;28mself\u001b[39m\u001b[38;5;241m.\u001b[39m_get_file_writer()\u001b[38;5;241m.\u001b[39madd_summary(\n\u001b[1;32m--> 881\u001b[0m     \u001b[43mpr_curve\u001b[49m\u001b[43m(\u001b[49m\u001b[43mtag\u001b[49m\u001b[43m,\u001b[49m\u001b[43m \u001b[49m\u001b[43mlabels\u001b[49m\u001b[43m,\u001b[49m\u001b[43m \u001b[49m\u001b[43mpredictions\u001b[49m\u001b[43m,\u001b[49m\u001b[43m \u001b[49m\u001b[43mnum_thresholds\u001b[49m\u001b[43m,\u001b[49m\u001b[43m \u001b[49m\u001b[43mweights\u001b[49m\u001b[43m)\u001b[49m,\n\u001b[0;32m    882\u001b[0m     global_step, walltime)\n",
            "File \u001b[1;32m~\\anaconda3\\envs\\pytorch\\lib\\site-packages\\torch\\utils\\tensorboard\\summary.py:589\u001b[0m, in \u001b[0;36mpr_curve\u001b[1;34m(tag, labels, predictions, num_thresholds, weights)\u001b[0m\n\u001b[0;32m    586\u001b[0m \u001b[38;5;28;01mdef\u001b[39;00m \u001b[38;5;21mpr_curve\u001b[39m(tag, labels, predictions, num_thresholds\u001b[38;5;241m=\u001b[39m\u001b[38;5;241m127\u001b[39m, weights\u001b[38;5;241m=\u001b[39m\u001b[38;5;28;01mNone\u001b[39;00m):\n\u001b[0;32m    587\u001b[0m     \u001b[38;5;66;03m# weird, value > 127 breaks protobuf\u001b[39;00m\n\u001b[0;32m    588\u001b[0m     num_thresholds \u001b[38;5;241m=\u001b[39m \u001b[38;5;28mmin\u001b[39m(num_thresholds, \u001b[38;5;241m127\u001b[39m)\n\u001b[1;32m--> 589\u001b[0m     data \u001b[38;5;241m=\u001b[39m \u001b[43mcompute_curve\u001b[49m\u001b[43m(\u001b[49m\u001b[43mlabels\u001b[49m\u001b[43m,\u001b[49m\u001b[43m \u001b[49m\u001b[43mpredictions\u001b[49m\u001b[43m,\u001b[49m\n\u001b[0;32m    590\u001b[0m \u001b[43m                         \u001b[49m\u001b[43mnum_thresholds\u001b[49m\u001b[38;5;241;43m=\u001b[39;49m\u001b[43mnum_thresholds\u001b[49m\u001b[43m,\u001b[49m\u001b[43m \u001b[49m\u001b[43mweights\u001b[49m\u001b[38;5;241;43m=\u001b[39;49m\u001b[43mweights\u001b[49m\u001b[43m)\u001b[49m\n\u001b[0;32m    591\u001b[0m     pr_curve_plugin_data \u001b[38;5;241m=\u001b[39m PrCurvePluginData(\n\u001b[0;32m    592\u001b[0m         version\u001b[38;5;241m=\u001b[39m\u001b[38;5;241m0\u001b[39m, num_thresholds\u001b[38;5;241m=\u001b[39mnum_thresholds)\u001b[38;5;241m.\u001b[39mSerializeToString()\n\u001b[0;32m    593\u001b[0m     plugin_data \u001b[38;5;241m=\u001b[39m SummaryMetadata\u001b[38;5;241m.\u001b[39mPluginData(\n\u001b[0;32m    594\u001b[0m         plugin_name\u001b[38;5;241m=\u001b[39m\u001b[38;5;124m'\u001b[39m\u001b[38;5;124mpr_curves\u001b[39m\u001b[38;5;124m'\u001b[39m, content\u001b[38;5;241m=\u001b[39mpr_curve_plugin_data)\n",
            "File \u001b[1;32m~\\anaconda3\\envs\\pytorch\\lib\\site-packages\\torch\\utils\\tensorboard\\summary.py:614\u001b[0m, in \u001b[0;36mcompute_curve\u001b[1;34m(labels, predictions, num_thresholds, weights)\u001b[0m\n\u001b[0;32m    612\u001b[0m float_labels \u001b[38;5;241m=\u001b[39m labels\u001b[38;5;241m.\u001b[39mastype(np\u001b[38;5;241m.\u001b[39mfloat64)\n\u001b[0;32m    613\u001b[0m histogram_range \u001b[38;5;241m=\u001b[39m (\u001b[38;5;241m0\u001b[39m, num_thresholds \u001b[38;5;241m-\u001b[39m \u001b[38;5;241m1\u001b[39m)\n\u001b[1;32m--> 614\u001b[0m tp_buckets, _ \u001b[38;5;241m=\u001b[39m \u001b[43mnp\u001b[49m\u001b[38;5;241;43m.\u001b[39;49m\u001b[43mhistogram\u001b[49m\u001b[43m(\u001b[49m\n\u001b[0;32m    615\u001b[0m \u001b[43m    \u001b[49m\u001b[43mbucket_indices\u001b[49m\u001b[43m,\u001b[49m\n\u001b[0;32m    616\u001b[0m \u001b[43m    \u001b[49m\u001b[43mbins\u001b[49m\u001b[38;5;241;43m=\u001b[39;49m\u001b[43mnum_thresholds\u001b[49m\u001b[43m,\u001b[49m\n\u001b[0;32m    617\u001b[0m \u001b[43m    \u001b[49m\u001b[38;5;28;43mrange\u001b[39;49m\u001b[38;5;241;43m=\u001b[39;49m\u001b[43mhistogram_range\u001b[49m\u001b[43m,\u001b[49m\n\u001b[0;32m    618\u001b[0m \u001b[43m    \u001b[49m\u001b[43mweights\u001b[49m\u001b[38;5;241;43m=\u001b[39;49m\u001b[43mfloat_labels\u001b[49m\u001b[43m \u001b[49m\u001b[38;5;241;43m*\u001b[39;49m\u001b[43m \u001b[49m\u001b[43mweights\u001b[49m\u001b[43m)\u001b[49m\n\u001b[0;32m    619\u001b[0m fp_buckets, _ \u001b[38;5;241m=\u001b[39m np\u001b[38;5;241m.\u001b[39mhistogram(\n\u001b[0;32m    620\u001b[0m     bucket_indices,\n\u001b[0;32m    621\u001b[0m     bins\u001b[38;5;241m=\u001b[39mnum_thresholds,\n\u001b[0;32m    622\u001b[0m     \u001b[38;5;28mrange\u001b[39m\u001b[38;5;241m=\u001b[39mhistogram_range,\n\u001b[0;32m    623\u001b[0m     weights\u001b[38;5;241m=\u001b[39m(\u001b[38;5;241m1.0\u001b[39m \u001b[38;5;241m-\u001b[39m float_labels) \u001b[38;5;241m*\u001b[39m weights)\n\u001b[0;32m    625\u001b[0m \u001b[38;5;66;03m# Obtain the reverse cumulative sum.\u001b[39;00m\n",
            "File \u001b[1;32m<__array_function__ internals>:5\u001b[0m, in \u001b[0;36mhistogram\u001b[1;34m(*args, **kwargs)\u001b[0m\n",
            "File \u001b[1;32m~\\anaconda3\\envs\\pytorch\\lib\\site-packages\\numpy\\lib\\histograms.py:791\u001b[0m, in \u001b[0;36mhistogram\u001b[1;34m(a, bins, range, normed, weights, density)\u001b[0m\n\u001b[0;32m    678\u001b[0m \u001b[38;5;129m@array_function_dispatch\u001b[39m(_histogram_dispatcher)\n\u001b[0;32m    679\u001b[0m \u001b[38;5;28;01mdef\u001b[39;00m \u001b[38;5;21mhistogram\u001b[39m(a, bins\u001b[38;5;241m=\u001b[39m\u001b[38;5;241m10\u001b[39m, \u001b[38;5;28mrange\u001b[39m\u001b[38;5;241m=\u001b[39m\u001b[38;5;28;01mNone\u001b[39;00m, normed\u001b[38;5;241m=\u001b[39m\u001b[38;5;28;01mNone\u001b[39;00m, weights\u001b[38;5;241m=\u001b[39m\u001b[38;5;28;01mNone\u001b[39;00m,\n\u001b[0;32m    680\u001b[0m               density\u001b[38;5;241m=\u001b[39m\u001b[38;5;28;01mNone\u001b[39;00m):\n\u001b[0;32m    681\u001b[0m     \u001b[38;5;124mr\u001b[39m\u001b[38;5;124;03m\"\"\"\u001b[39;00m\n\u001b[0;32m    682\u001b[0m \u001b[38;5;124;03m    Compute the histogram of a dataset.\u001b[39;00m\n\u001b[0;32m    683\u001b[0m \n\u001b[1;32m   (...)\u001b[0m\n\u001b[0;32m    789\u001b[0m \n\u001b[0;32m    790\u001b[0m \u001b[38;5;124;03m    \"\"\"\u001b[39;00m\n\u001b[1;32m--> 791\u001b[0m     a, weights \u001b[38;5;241m=\u001b[39m \u001b[43m_ravel_and_check_weights\u001b[49m\u001b[43m(\u001b[49m\u001b[43ma\u001b[49m\u001b[43m,\u001b[49m\u001b[43m \u001b[49m\u001b[43mweights\u001b[49m\u001b[43m)\u001b[49m\n\u001b[0;32m    793\u001b[0m     bin_edges, uniform_bins \u001b[38;5;241m=\u001b[39m _get_bin_edges(a, bins, \u001b[38;5;28mrange\u001b[39m, weights)\n\u001b[0;32m    795\u001b[0m     \u001b[38;5;66;03m# Histogram is an integer or a float array depending on the weights.\u001b[39;00m\n",
            "File \u001b[1;32m~\\anaconda3\\envs\\pytorch\\lib\\site-packages\\numpy\\lib\\histograms.py:297\u001b[0m, in \u001b[0;36m_ravel_and_check_weights\u001b[1;34m(a, weights)\u001b[0m\n\u001b[0;32m    295\u001b[0m     weights \u001b[38;5;241m=\u001b[39m np\u001b[38;5;241m.\u001b[39masarray(weights)\n\u001b[0;32m    296\u001b[0m     \u001b[38;5;28;01mif\u001b[39;00m weights\u001b[38;5;241m.\u001b[39mshape \u001b[38;5;241m!=\u001b[39m a\u001b[38;5;241m.\u001b[39mshape:\n\u001b[1;32m--> 297\u001b[0m         \u001b[38;5;28;01mraise\u001b[39;00m \u001b[38;5;167;01mValueError\u001b[39;00m(\n\u001b[0;32m    298\u001b[0m             \u001b[38;5;124m'\u001b[39m\u001b[38;5;124mweights should have the same shape as a.\u001b[39m\u001b[38;5;124m'\u001b[39m)\n\u001b[0;32m    299\u001b[0m     weights \u001b[38;5;241m=\u001b[39m weights\u001b[38;5;241m.\u001b[39mravel()\n\u001b[0;32m    300\u001b[0m a \u001b[38;5;241m=\u001b[39m a\u001b[38;5;241m.\u001b[39mravel()\n",
            "\u001b[1;31mValueError\u001b[0m: weights should have the same shape as a."
          ]
        }
      ],
      "source": [
        "def test(data_loader, model, device):\n",
        "    model.eval()\n",
        "    # init lists to store targets and outputs\n",
        "    class_labels = []\n",
        "    class_preds = []\n",
        "    threshold = 0.6\n",
        "    # no_grad context\n",
        "    with torch.no_grad():\n",
        "        n_correct = 0\n",
        "        n_samples = 0\n",
        "        for data in data_loader:\n",
        "            (images, labels) = data\n",
        "\n",
        "            images = images.to(device, dtype=torch.float)\n",
        "            labels = labels.to(device, dtype=torch.float)\n",
        "\n",
        "            # predict\n",
        "            outputs = model(images)\n",
        "            \n",
        "            predicted = outputs > threshold\n",
        "            n_samples += labels.size(0)\n",
        "            n_correct += (predicted == labels).sum().item()\n",
        "            \n",
        "            class_preds.append(outputs)\n",
        "            class_labels.append(predicted)\n",
        "            \n",
        "    return class_preds, class_labels, n_samples, n_correct\n",
        "\n",
        "\n",
        "class_preds, class_labels, n_samples, n_correct = test(test_loader, model, device=device)\n",
        "\n",
        "class_preds = torch.cat(class_preds)\n",
        "class_labels = torch.cat(class_labels)\n",
        "\n",
        "acc = 100.0 * n_correct / n_samples\n",
        "print(f'Accuracy of the network on the 10000 test images: {acc} %')\n",
        "\n",
        "\n",
        "############## TENSORBOARD ########################\n",
        "for i in classes:\n",
        "    labels_i = class_labels == i\n",
        "    preds_i = class_preds[:, i]\n",
        "    writer.add_pr_curve(str(i), labels_i, preds_i, global_step=0)\n",
        "writer.close()\n",
        "###################################################\n"
      ]
    },
    {
      "cell_type": "code",
      "execution_count": null,
      "metadata": {
        "id": "FUAQ7b4158KT"
      },
      "outputs": [],
      "source": [
        "# def split_data():\n",
        "#     \"\"\"\n",
        "#     ONLY RUN ONCE!!!\n",
        "#     split the data to 2 class directory using the information from the data file\n",
        "#     \"\"\"\n",
        "\n",
        "#     for row, file_name in enumerate(classification_file[\"file_name\"]):\n",
        "#       lable = classification_file[\"target\"][row]\n",
        "#       original_path = os.path.join(data_dir, file_name)\n",
        "      \n",
        "#       if lable == PENUMOTHORAX:\n",
        "#         dest_path = os.path.join(Pneumothorax_dir, file_name)\n",
        "#       elif lable == NOT_PENUMOTHORAX:\n",
        "#         dest_path = os.path.join(not_Pneumothorax_dir, file_name)\n",
        "\n",
        "#       shutil.copy(original_path,dest_path)\n",
        "\n",
        "\n"
      ]
    },
    {
      "cell_type": "code",
      "execution_count": null,
      "metadata": {
        "id": "OpJNLI3GhAof"
      },
      "outputs": [],
      "source": [
        "# # Train and evaluate functions \n",
        "\n",
        "# def train(data_loader, model, optimizer, device):\n",
        "#     \"\"\"\n",
        "#     training for one epoch with selected model and params\n",
        "#      data_loader:  pytorch dataloader\n",
        "#      model: pytorch model\n",
        "#      optimizer: optimizer \n",
        "#      device: cuda/cpu\n",
        "#     \"\"\"\n",
        "#     # set training mode \n",
        "#     model.train()\n",
        "#     # go over every batch of data in data loader\n",
        "#     for data in data_loader:\n",
        "#         inputs = data[\"image\"]\n",
        "#         targets = data[\"targets\"]\n",
        "#         # move inputs/targets to cuda/cpu device\n",
        "#         inputs = inputs.to(device, dtype=torch.float)\n",
        "#         targets = targets.to(device, dtype=torch.float)\n",
        "#         # zero grad the optimizer\n",
        "#         optimizer.zero_grad()\n",
        "#         # do the forward step of model\n",
        "#         outputs = model(inputs)\n",
        "#         # calculate loss\n",
        "#         loss = nn.BCEWithLogitsLoss()(outputs, targets.view(-1, 1))\n",
        "#         # backward step the loss\n",
        "#         loss.backward()\n",
        "#         # step optimizer\n",
        "#         optimizer.step()\n",
        "        \n",
        "# def evaluate(data_loader, model, device):\n",
        "#     \"\"\"\n",
        "#     Evaluation for one epoch\n",
        "#     data_loader: this is the pytorch dataloader\n",
        "#     model: pytorch model\n",
        "#     device: cuda/cpu\n",
        "#     \"\"\"\n",
        "#     # put model in evaluation mode\n",
        "#     model.eval()\n",
        "#     # init lists to store targets and outputs\n",
        "#     final_targets = []\n",
        "#     final_outputs = []\n",
        "#     # no_grad context\n",
        "#     with torch.no_grad():\n",
        "#         for data in data_loader:\n",
        "#             inputs = data[\"image\"]\n",
        "#             targets = data[\"targets\"]\n",
        "#             inputs = inputs.to(device, dtype=torch.float)\n",
        "#             targets = targets.to(device, dtype=torch.float)\n",
        "#             # generate prediction\n",
        "#             output = model(inputs)\n",
        "#             # convert targets and outputs to lists\n",
        "#             targets = targets.detach().cpu().numpy().tolist()\n",
        "#             output = output.detach().cpu().numpy().tolist()\n",
        "#             # extend the original list\n",
        "#             final_targets.extend(targets)\n",
        "#             final_outputs.extend(output)\n",
        "            \n",
        "#     return final_outputs, final_targets\n",
        "# # train and print auc score for all epochs\n",
        "# for epoch in tqdm(range(EPOCHS)):\n",
        "#     # train \n",
        "#     train(train_loader, model, optimizer, device=device)\n",
        "#     # predict \n",
        "#     predictions, valid_targets = evaluate(valid_loader, model, device=device)\n",
        "#     # metrics \n",
        "#     roc_auc = metrics.roc_auc_score(valid_targets, predictions)\n",
        "#     print(f\"Epoch={epoch}, Valid ROC AUC={roc_auc}\")\n",
        "\n",
        "    "
      ]
    }
  ],
  "metadata": {
    "accelerator": "GPU",
    "colab": {
      "collapsed_sections": [],
      "name": "neural network project.ipynb",
      "provenance": []
    },
    "kernelspec": {
      "display_name": "Python 3",
      "name": "python3"
    },
    "language_info": {
      "codemirror_mode": {
        "name": "ipython",
        "version": 3
      },
      "file_extension": ".py",
      "mimetype": "text/x-python",
      "name": "python",
      "nbconvert_exporter": "python",
      "pygments_lexer": "ipython3",
      "version": "3.9.7"
    }
  },
  "nbformat": 4,
  "nbformat_minor": 0
}
