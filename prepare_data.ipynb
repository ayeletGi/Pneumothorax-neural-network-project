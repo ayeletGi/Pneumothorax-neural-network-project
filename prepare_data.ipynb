{
 "cells": [
  {
   "cell_type": "code",
   "execution_count": 128,
   "metadata": {},
   "outputs": [],
   "source": [
    "import torch\n",
    "import torch.nn as nn\n",
    "import torch.nn.functional as F\n",
    "import torchvision\n",
    "from torchvision import models\n",
    "from torch.utils.data import Dataset, DataLoader\n",
    "from torchvision import transforms\n",
    "from torch.utils.tensorboard import SummaryWriter\n",
    "from sklearn import metrics\n",
    "from sklearn.model_selection import train_test_split\n",
    "from sklearn.metrics import confusion_matrix, ConfusionMatrixDisplay\n",
    "import matplotlib.pyplot as plt\n",
    "from PIL import Image\n",
    "import pandas as pd\n",
    "import numpy as np\n",
    "import shutil\n",
    "import os\n",
    "from PIL import Image\n",
    "import pprint\n",
    "import gc"
   ]
  },
  {
   "cell_type": "markdown",
   "metadata": {},
   "source": [
    "### Load Data:"
   ]
  },
  {
   "cell_type": "code",
   "execution_count": 129,
   "metadata": {},
   "outputs": [
    {
     "name": "stdout",
     "output_type": "stream",
     "text": [
      "['file_name', 'target']\n"
     ]
    }
   ],
   "source": [
    "code_dir = os.getcwd()\n",
    "\n",
    "data_dir = os.path.join(code_dir, \"Data\")\n",
    "class_file_path = os.path.join(code_dir, \"train_data.csv\")\n",
    "\n",
    "PNEUMOTHORAX = 1\n",
    "NOT_PNEUMOTHORAX = 0\n",
    "classes = {PNEUMOTHORAX, NOT_PNEUMOTHORAX}\n",
    "num_classes = len(classes)\n",
    "\n",
    "classification_file = pd.read_csv(class_file_path, header=0)\n",
    "if 'Unnamed: 0' in classification_file.columns:\n",
    "    classification_file.drop(columns=['Unnamed: 0', 'Unnamed: 0.1'], inplace=True)\n",
    "\n",
    "print(classification_file.columns.values.tolist())\n",
    "\n",
    "images_paths = np.asarray(classification_file[\"file_name\"])\n",
    "images_targets = np.asarray(classification_file[\"target\"])"
   ]
  },
  {
   "cell_type": "markdown",
   "metadata": {},
   "source": [
    "### Calculate the percentage of each class in the data:"
   ]
  },
  {
   "cell_type": "code",
   "execution_count": 142,
   "metadata": {},
   "outputs": [
    {
     "name": "stdout",
     "output_type": "stream",
     "text": [
      "Pneumothorax precentage: 78.8%\n",
      "Not pneumothorax precentage: 21.2%\n",
      "\n"
     ]
    }
   ],
   "source": [
    "def show_class_percentage(targets, mult):\n",
    "\n",
    "      pneum_counter = sum([t for t in targets if t == PNEUMOTHORAX])\n",
    "      not_pneum_counter = sum([1 for t in targets if t == NOT_PNEUMOTHORAX])*mult\n",
    "      total_data_count = not_pneum_counter + pneum_counter\n",
    "\n",
    "      print(f\"Pneumothorax precentage: {( pneum_counter / total_data_count)*100:.3}%\\n\"\n",
    "            f\"Not pneumothorax precentage: {( not_pneum_counter / total_data_count)*100:.3}%\\n\" )\n",
    "\n",
    "show_class_percentage(images_targets, 1)"
   ]
  },
  {
   "cell_type": "markdown",
   "metadata": {},
   "source": [
    "As we can see, the data is very biased. <br/>\n",
    "In order to optimaize our model, we aspire a situation were the class percentage is as close as possible to 50%.<br/>\n",
    "to do so we need to apply data augmantayion on the NOT_PNEUMOTHORAX class.<br/>\n",
    "Lets check how many times we need to duplicate the NOT_PNEUMOTHORAX data.<br/>"
   ]
  },
  {
   "cell_type": "code",
   "execution_count": 143,
   "metadata": {},
   "outputs": [
    {
     "name": "stdout",
     "output_type": "stream",
     "text": [
      "duplicate 2 times:\n",
      "\n",
      "Pneumothorax precentage: 65.0%\n",
      "Not pneumothorax precentage: 35.0%\n",
      "\n",
      "duplicate 3 times:\n",
      "\n",
      "Pneumothorax precentage: 55.3%\n",
      "Not pneumothorax precentage: 44.7%\n",
      "\n",
      "duplicate 4 times:\n",
      "\n",
      "Pneumothorax precentage: 48.1%\n",
      "Not pneumothorax precentage: 51.9%\n",
      "\n",
      "duplicate 5 times:\n",
      "\n",
      "Pneumothorax precentage: 42.6%\n",
      "Not pneumothorax precentage: 57.4%\n",
      "\n"
     ]
    }
   ],
   "source": [
    "for i in range(2,6):\n",
    "      print(f\"duplicate {i} times:\\n\")\n",
    "      show_class_percentage(images_targets, i)"
   ]
  },
  {
   "cell_type": "markdown",
   "metadata": {},
   "source": [
    "We can see that we will get the best result if we duplicate 4 times"
   ]
  },
  {
   "cell_type": "code",
   "execution_count": null,
   "metadata": {},
   "outputs": [],
   "source": [
    "\n",
    "new_images_paths = images_paths.tolist()\n",
    "new_images_targets = images_targets.tolist()\n",
    "\n",
    "def duplicate(i, paths):\n",
    "    for p in paths:\n",
    "        no_png = p.replace(\".png\", \"\")\n",
    "        new_file_name = str(no_png) + \"_copy_\"+ str(i) + \".png\"\n",
    "\n",
    "        new_images_paths.append(new_file_name)\n",
    "        new_images_targets.append(0)\n",
    "\n",
    "        source = os.path.join(data_dir, p)\n",
    "        dest = os.path.join(data_dir, new_file_name)\n",
    "\n",
    "        if not os.path.isfile(dest):\n",
    "            shutil.copy(source, dest)\n",
    "    \n",
    "\n",
    "\n",
    "\n",
    "not_pneum_paths = [p for r,p in enumerate(images_paths) if images_targets[r] == 0]\n",
    "\n",
    "for i in range(1,4):\n",
    "    duplicate(i, not_pneum_paths) \n",
    "    \n",
    "new_df = pd.DataFrame(zip(new_images_paths, new_images_targets), columns=['file_name', 'target'])\n",
    "       \n",
    "new_df.to_csv(class_file_path, sep = ',')"
   ]
  },
  {
   "cell_type": "code",
   "execution_count": 145,
   "metadata": {},
   "outputs": [
    {
     "name": "stdout",
     "output_type": "stream",
     "text": [
      "Pneumothorax precentage: 48.1%\n",
      "Not pneumothorax precentage: 51.9%\n",
      "\n"
     ]
    }
   ],
   "source": [
    "copys_paths = [p for p in new_images_paths if \"copy\" in p]\n",
    "\n",
    "show_class_percentage(new_images_targets, 1)"
   ]
  },
  {
   "cell_type": "code",
   "execution_count": 148,
   "metadata": {},
   "outputs": [],
   "source": [
    "# transform\n",
    "transform = transforms.Compose([transforms.RandomPerspective(distortion_scale=0.2, p =1.0),\n",
    "                                transforms.RandomVerticalFlip(p=0.5),\n",
    "                                transforms.RandomHorizontalFlip(p=0.5),\n",
    "                                transforms.RandomAdjustSharpness(sharpness_factor=2),\n",
    "                                ])\n",
    "\n",
    "for p in copys_paths:\n",
    "    im_full_path = os.path.join(data_dir, p)\n",
    "    image = Image.open(im_full_path)\n",
    "    trans_image = transform(image)\n",
    "    trans_image.save(im_full_path)\n"
   ]
  }
 ],
 "metadata": {
  "interpreter": {
   "hash": "0600588c3b5f4418cbe7b5ebc6825b479f3bc010269d8b60d75058cdd010adfe"
  },
  "kernelspec": {
   "display_name": "Python 3.7.7 64-bit",
   "language": "python",
   "name": "python3"
  },
  "language_info": {
   "codemirror_mode": {
    "name": "ipython",
    "version": 3
   },
   "file_extension": ".py",
   "mimetype": "text/x-python",
   "name": "python",
   "nbconvert_exporter": "python",
   "pygments_lexer": "ipython3",
   "version": "3.7.7"
  },
  "orig_nbformat": 4
 },
 "nbformat": 4,
 "nbformat_minor": 2
}
